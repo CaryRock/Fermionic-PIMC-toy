{
 "cells": [
  {
   "cell_type": "code",
   "execution_count": 1,
   "metadata": {},
   "outputs": [],
   "source": [
    "import matplotlib.pyplot as plt\n",
    "import numpy as np\n",
    "import scipy.integrate\n",
    "from dgutils import colors as colortools\n",
    "from dgutils import savehtml\n",
    "from pimcscripts import pimchelp\n",
    "\n",
    "# Notebook display options\n",
    "%matplotlib inline\n",
    "%config InlineBackend.figure_format = 'svg'\n",
    "#sorted(plt.style.available)\n",
    "plt.style.use('classic')\n",
    "colors = plt.rcParams['axes.prop_cycle'].by_key()['color']"
   ]
  },
  {
   "cell_type": "markdown",
   "metadata": {},
   "source": [
    "## Reduce the data over temperature and load the resulting files"
   ]
  },
  {
   "cell_type": "code",
   "execution_count": 2,
   "metadata": {},
   "outputs": [],
   "source": [
    "mu_2_params = {'τ':0.002, 'N':2, 'n':0.1}\n",
    "mu_3_params = {'τ':0.002, 'N':3, 'n':0.15}\n"
   ]
  },
  {
   "cell_type": "code",
   "execution_count": 3,
   "metadata": {},
   "outputs": [
    {
     "name": "stdout",
     "output_type": "stream",
     "text": [
      "./02_refresh/data/\n",
      "Reduced lineardensity over 10 Temperature value(s).\n",
      "Reduced virial over 10 Temperature value(s).\n"
     ]
    }
   ],
   "source": [
    "mu2_root_dir = './0' + str(mu_2_params['N']) + '_refresh'\n",
    "mu2_data_dir = mu2_root_dir + '/data/'\n",
    "mu2_plot_dir = mu2_root_dir + '/plot/'\n",
    "print(mu2_data_dir)\n",
    "!reduce-one.py -r T -N {mu_2_params['N']} -s 0.2 -n {mu_2_params['n']} -t {mu_2_params['τ']} --canonical {mu2_data_dir}"
   ]
  },
  {
   "cell_type": "code",
   "execution_count": 4,
   "metadata": {},
   "outputs": [
    {
     "name": "stdout",
     "output_type": "stream",
     "text": [
      "./03_refresh/data/\n",
      "/home/thaumaturge/Projects/Fermionic-PIMC-toy/JULIA/base/OUTPUT/mu\n",
      "Reduced lineardensity over 10 Temperature value(s).\n",
      "Reduced virial over 10 Temperature value(s).\n"
     ]
    }
   ],
   "source": [
    "mu3_root_dir = './0' + str(mu_3_params['N']) + '_refresh'\n",
    "mu3_data_dir = mu3_root_dir + '/data/'\n",
    "mu3_plot_dir = mu3_root_dir + '/plot/'\n",
    "print(mu3_data_dir)\n",
    "!pwd\n",
    "!reduce-one.py -r T -N {mu_3_params['N']} -s 0.2 -n {mu_3_params['n']} -t {mu_3_params['τ']} --canonical {mu3_data_dir}"
   ]
  },
  {
   "cell_type": "code",
   "execution_count": 5,
   "metadata": {},
   "outputs": [],
   "source": [
    "mu2_est_reduce_name = pimchelp.get_reduce_name(**mu_2_params, canonical=True, reduce='T', estimator='virial')\n",
    "mu2_estimator = pimchelp.PIMCResults(f'{mu2_data_dir}{mu2_est_reduce_name}')\n",
    "mu2_rho_reduce_name = pimchelp.get_reduce_name(**mu_2_params, canonical=True, reduce='T', estimator='lineardensity')\n",
    "mu2_rho = pimchelp.PIMCResults(f'{mu2_data_dir}{mu2_rho_reduce_name}')"
   ]
  },
  {
   "cell_type": "code",
   "execution_count": 6,
   "metadata": {},
   "outputs": [],
   "source": [
    "mu3_est_reduce_name = pimchelp.get_reduce_name(**mu_3_params, canonical=True, reduce='T', estimator='virial')\n",
    "mu3_estimator = pimchelp.PIMCResults(f'{mu3_data_dir}{mu3_est_reduce_name}')\n",
    "mu3_rho_reduce_name = pimchelp.get_reduce_name(**mu_3_params, canonical=True, reduce='T', estimator='lineardensity')\n",
    "mu3_rho = pimchelp.PIMCResults(f'{mu3_data_dir}{mu3_rho_reduce_name}')"
   ]
  },
  {
   "cell_type": "markdown",
   "metadata": {},
   "source": [
    "## Study the Energy vs. Temperature"
   ]
  },
  {
   "cell_type": "code",
   "execution_count": 14,
   "metadata": {},
   "outputs": [],
   "source": [
    "#E = lambda T: sim_params['N'] * 0.5/np.tanh(0.5/T)\n",
    "#eps = 0.0\n",
    "#for i in range(10):\n",
    "#    eps += i + 0.5\n",
    "#\n",
    "#def exp3eo2T(eps, T):\n",
    "#    return np.exp(-3.0 * eps / (2.0 * T))\n",
    "\n",
    "#E = lambda T: ( 4.0*eps*exp3eo2T(eps, T)*np.sinh(eps/(2.0*T)) + 0.5 + eps/np.tanh(eps/(2.0*T)) ) / ( 1 + 2.0*exp3eo2T(eps, T) * np.sinh(eps/(2.0*T)) )\n",
    "def High_Temp(N, T):\n",
    "    return N*T\n",
    "\n",
    "def Low_Temp(T):\n",
    "    return 1/(np.exp(1/T)-1.0)\n",
    "\n",
    "def Sum(N, T):\n",
    "    total = 0.0\n",
    "    for k in range(1,N):\n",
    "        total += k / (np.exp(k / T) - 1.0)\n",
    "    \n",
    "    return total\n",
    "\n",
    "fE = lambda N, T: N*N/2.0 + Sum(N, T)\n",
    "fEperN = lambda N, T: N/2.0 + Sum(N, T)\n",
    "\n",
    "bE = lambda N, T: N/2.0 + Sum(N, T)\n",
    "bEperN = lambda N, T: 1/2.0 + Sum(N, T)\n",
    "\n",
    "fHigh = lambda N, T: N*N/2.0 + High_Temp(N, T)\n",
    "fHighPerN = lambda N, T: High_Temp(N, T)/N\n",
    "\n",
    "bHigh = lambda N, T: N/2.0 + High_Temp(N, T)\n",
    "bHighPerN = lambda N, T: High_Temp(N, T)/N\n",
    "\n",
    "fLow = lambda N, T: N*N/2.0 + Low_Temp(T)\n",
    "fLowPerN = lambda N, T: N/2.0 + Low_Temp(T)/N\n",
    "\n",
    "bLow = lambda N, T: N/2.0 + Low_Temp(T)\n",
    "bLowPerN = lambda N, T: 1/4.0 + Low_Temp(T)/N\n",
    "\n",
    "T_max = 2\n",
    "_T = np.linspace(1E-2,T_max,1000)"
   ]
  },
  {
   "cell_type": "code",
   "execution_count": 15,
   "metadata": {},
   "outputs": [
    {
     "data": {
      "text/plain": [
       "<matplotlib.legend.Legend at 0x7f3f19a6fac0>"
      ]
     },
     "execution_count": 15,
     "metadata": {},
     "output_type": "execute_result"
    },
    {
     "data": {
      "image/svg+xml": "<?xml version=\"1.0\" encoding=\"utf-8\" standalone=\"no\"?>\n<!DOCTYPE svg PUBLIC \"-//W3C//DTD SVG 1.1//EN\"\n  \"http://www.w3.org/Graphics/SVG/1.1/DTD/svg11.dtd\">\n<svg xmlns:xlink=\"http://www.w3.org/1999/xlink\" width=\"500.4975pt\" height=\"392.2275pt\" viewBox=\"0 0 500.4975 392.2275\" xmlns=\"http://www.w3.org/2000/svg\" version=\"1.1\">\n <metadata>\n  <rdf:RDF xmlns:dc=\"http://purl.org/dc/elements/1.1/\" xmlns:cc=\"http://creativecommons.org/ns#\" xmlns:rdf=\"http://www.w3.org/1999/02/22-rdf-syntax-ns#\">\n   <cc:Work>\n    <dc:type rdf:resource=\"http://purl.org/dc/dcmitype/StillImage\"/>\n    <dc:date>2022-04-20T08:56:30.620506</dc:date>\n    <dc:format>image/svg+xml</dc:format>\n    <dc:creator>\n     <cc:Agent>\n      <dc:title>Matplotlib v3.5.1, https://matplotlib.org/</dc:title>\n     </cc:Agent>\n    </dc:creator>\n   </cc:Work>\n  </rdf:RDF>\n </metadata>\n <defs>\n  <style type=\"text/css\">*{stroke-linejoin: round; stroke-linecap: butt}</style>\n </defs>\n <g id=\"figure_1\">\n  <g id=\"patch_1\">\n   <path d=\"M 0 392.2275 \nL 500.4975 392.2275 \nL 500.4975 0 \nL 0 0 \nz\n\" style=\"fill: #bfbfbf\"/>\n  </g>\n  <g id=\"axes_1\">\n   <g id=\"patch_2\">\n    <path d=\"M 46.8975 352.8 \nL 493.2975 352.8 \nL 493.2975 7.2 \nL 46.8975 7.2 \nz\n\" style=\"fill: #ffffff\"/>\n   </g>\n   <g id=\"LineCollection_1\">\n    <path d=\"M 270.0975 169.249541 \nL 270.0975 159.664985 \n\" clip-path=\"url(#p3e275af750)\" style=\"fill: none; stroke: #0000ff; stroke-width: 0.5\"/>\n    <path d=\"M 270.0975 165.825623 \nL 270.0975 157.009809 \n\" clip-path=\"url(#p3e275af750)\" style=\"fill: none; stroke: #0000ff; stroke-width: 0.5\"/>\n    <path d=\"M 270.0975 165.023825 \nL 270.0975 156.492641 \n\" clip-path=\"url(#p3e275af750)\" style=\"fill: none; stroke: #0000ff; stroke-width: 0.5\"/>\n    <path d=\"M 270.0975 160.731289 \nL 270.0975 151.138168 \n\" clip-path=\"url(#p3e275af750)\" style=\"fill: none; stroke: #0000ff; stroke-width: 0.5\"/>\n    <path d=\"M 270.0975 159.531544 \nL 270.0975 150.459061 \n\" clip-path=\"url(#p3e275af750)\" style=\"fill: none; stroke: #0000ff; stroke-width: 0.5\"/>\n    <path d=\"M 270.0975 165.21117 \nL 270.0975 155.410677 \n\" clip-path=\"url(#p3e275af750)\" style=\"fill: none; stroke: #0000ff; stroke-width: 0.5\"/>\n    <path d=\"M 270.0975 157.288651 \nL 270.0975 147.934751 \n\" clip-path=\"url(#p3e275af750)\" style=\"fill: none; stroke: #0000ff; stroke-width: 0.5\"/>\n    <path d=\"M 270.0975 159.144081 \nL 270.0975 149.858109 \n\" clip-path=\"url(#p3e275af750)\" style=\"fill: none; stroke: #0000ff; stroke-width: 0.5\"/>\n    <path d=\"M 270.0975 158.534084 \nL 270.0975 149.420176 \n\" clip-path=\"url(#p3e275af750)\" style=\"fill: none; stroke: #0000ff; stroke-width: 0.5\"/>\n    <path d=\"M 270.0975 160.252382 \nL 270.0975 150.611537 \n\" clip-path=\"url(#p3e275af750)\" style=\"fill: none; stroke: #0000ff; stroke-width: 0.5\"/>\n   </g>\n   <g id=\"line2d_1\">\n    <defs>\n     <path id=\"md245ef4e3f\" d=\"M 3 0 \nL -3 -0 \n\" style=\"stroke: #0000ff; stroke-width: 0.75\"/>\n    </defs>\n    <g clip-path=\"url(#p3e275af750)\">\n     <use xlink:href=\"#md245ef4e3f\" x=\"270.0975\" y=\"169.249541\" style=\"fill: #0000ff; stroke: #0000ff; stroke-width: 0.75\"/>\n     <use xlink:href=\"#md245ef4e3f\" x=\"270.0975\" y=\"165.825623\" style=\"fill: #0000ff; stroke: #0000ff; stroke-width: 0.75\"/>\n     <use xlink:href=\"#md245ef4e3f\" x=\"270.0975\" y=\"165.023825\" style=\"fill: #0000ff; stroke: #0000ff; stroke-width: 0.75\"/>\n     <use xlink:href=\"#md245ef4e3f\" x=\"270.0975\" y=\"160.731289\" style=\"fill: #0000ff; stroke: #0000ff; stroke-width: 0.75\"/>\n     <use xlink:href=\"#md245ef4e3f\" x=\"270.0975\" y=\"159.531544\" style=\"fill: #0000ff; stroke: #0000ff; stroke-width: 0.75\"/>\n     <use xlink:href=\"#md245ef4e3f\" x=\"270.0975\" y=\"165.21117\" style=\"fill: #0000ff; stroke: #0000ff; stroke-width: 0.75\"/>\n     <use xlink:href=\"#md245ef4e3f\" x=\"270.0975\" y=\"157.288651\" style=\"fill: #0000ff; stroke: #0000ff; stroke-width: 0.75\"/>\n     <use xlink:href=\"#md245ef4e3f\" x=\"270.0975\" y=\"159.144081\" style=\"fill: #0000ff; stroke: #0000ff; stroke-width: 0.75\"/>\n     <use xlink:href=\"#md245ef4e3f\" x=\"270.0975\" y=\"158.534084\" style=\"fill: #0000ff; stroke: #0000ff; stroke-width: 0.75\"/>\n     <use xlink:href=\"#md245ef4e3f\" x=\"270.0975\" y=\"160.252382\" style=\"fill: #0000ff; stroke: #0000ff; stroke-width: 0.75\"/>\n    </g>\n   </g>\n   <g id=\"line2d_2\">\n    <g clip-path=\"url(#p3e275af750)\">\n     <use xlink:href=\"#md245ef4e3f\" x=\"270.0975\" y=\"159.664985\" style=\"fill: #0000ff; stroke: #0000ff; stroke-width: 0.75\"/>\n     <use xlink:href=\"#md245ef4e3f\" x=\"270.0975\" y=\"157.009809\" style=\"fill: #0000ff; stroke: #0000ff; stroke-width: 0.75\"/>\n     <use xlink:href=\"#md245ef4e3f\" x=\"270.0975\" y=\"156.492641\" style=\"fill: #0000ff; stroke: #0000ff; stroke-width: 0.75\"/>\n     <use xlink:href=\"#md245ef4e3f\" x=\"270.0975\" y=\"151.138168\" style=\"fill: #0000ff; stroke: #0000ff; stroke-width: 0.75\"/>\n     <use xlink:href=\"#md245ef4e3f\" x=\"270.0975\" y=\"150.459061\" style=\"fill: #0000ff; stroke: #0000ff; stroke-width: 0.75\"/>\n     <use xlink:href=\"#md245ef4e3f\" x=\"270.0975\" y=\"155.410677\" style=\"fill: #0000ff; stroke: #0000ff; stroke-width: 0.75\"/>\n     <use xlink:href=\"#md245ef4e3f\" x=\"270.0975\" y=\"147.934751\" style=\"fill: #0000ff; stroke: #0000ff; stroke-width: 0.75\"/>\n     <use xlink:href=\"#md245ef4e3f\" x=\"270.0975\" y=\"149.858109\" style=\"fill: #0000ff; stroke: #0000ff; stroke-width: 0.75\"/>\n     <use xlink:href=\"#md245ef4e3f\" x=\"270.0975\" y=\"149.420176\" style=\"fill: #0000ff; stroke: #0000ff; stroke-width: 0.75\"/>\n     <use xlink:href=\"#md245ef4e3f\" x=\"270.0975\" y=\"150.611537\" style=\"fill: #0000ff; stroke: #0000ff; stroke-width: 0.75\"/>\n    </g>\n   </g>\n   <g id=\"LineCollection_2\">\n    <path d=\"M 270.0975 195.594431 \nL 270.0975 186.678431 \n\" clip-path=\"url(#p3e275af750)\" style=\"fill: none; stroke: #008000; stroke-width: 0.5\"/>\n    <path d=\"M 270.0975 185.346492 \nL 270.0975 177.162985 \n\" clip-path=\"url(#p3e275af750)\" style=\"fill: none; stroke: #008000; stroke-width: 0.5\"/>\n    <path d=\"M 270.0975 192.139599 \nL 270.0975 184.122041 \n\" clip-path=\"url(#p3e275af750)\" style=\"fill: none; stroke: #008000; stroke-width: 0.5\"/>\n    <path d=\"M 270.0975 199.200187 \nL 270.0975 191.499271 \n\" clip-path=\"url(#p3e275af750)\" style=\"fill: none; stroke: #008000; stroke-width: 0.5\"/>\n    <path d=\"M 270.0975 189.623765 \nL 270.0975 181.29245 \n\" clip-path=\"url(#p3e275af750)\" style=\"fill: none; stroke: #008000; stroke-width: 0.5\"/>\n    <path d=\"M 270.0975 186.266226 \nL 270.0975 178.703107 \n\" clip-path=\"url(#p3e275af750)\" style=\"fill: none; stroke: #008000; stroke-width: 0.5\"/>\n    <path d=\"M 270.0975 197.35706 \nL 270.0975 189.075859 \n\" clip-path=\"url(#p3e275af750)\" style=\"fill: none; stroke: #008000; stroke-width: 0.5\"/>\n    <path d=\"M 270.0975 191.657668 \nL 270.0975 182.926103 \n\" clip-path=\"url(#p3e275af750)\" style=\"fill: none; stroke: #008000; stroke-width: 0.5\"/>\n    <path d=\"M 270.0975 188.303238 \nL 270.0975 179.6066 \n\" clip-path=\"url(#p3e275af750)\" style=\"fill: none; stroke: #008000; stroke-width: 0.5\"/>\n    <path d=\"M 270.0975 191.742368 \nL 270.0975 184.059195 \n\" clip-path=\"url(#p3e275af750)\" style=\"fill: none; stroke: #008000; stroke-width: 0.5\"/>\n   </g>\n   <g id=\"line2d_3\">\n    <defs>\n     <path id=\"mf6029d5d6b\" d=\"M 3 0 \nL -3 -0 \n\" style=\"stroke: #008000; stroke-width: 0.75\"/>\n    </defs>\n    <g clip-path=\"url(#p3e275af750)\">\n     <use xlink:href=\"#mf6029d5d6b\" x=\"270.0975\" y=\"195.594431\" style=\"fill: #008000; stroke: #008000; stroke-width: 0.75\"/>\n     <use xlink:href=\"#mf6029d5d6b\" x=\"270.0975\" y=\"185.346492\" style=\"fill: #008000; stroke: #008000; stroke-width: 0.75\"/>\n     <use xlink:href=\"#mf6029d5d6b\" x=\"270.0975\" y=\"192.139599\" style=\"fill: #008000; stroke: #008000; stroke-width: 0.75\"/>\n     <use xlink:href=\"#mf6029d5d6b\" x=\"270.0975\" y=\"199.200187\" style=\"fill: #008000; stroke: #008000; stroke-width: 0.75\"/>\n     <use xlink:href=\"#mf6029d5d6b\" x=\"270.0975\" y=\"189.623765\" style=\"fill: #008000; stroke: #008000; stroke-width: 0.75\"/>\n     <use xlink:href=\"#mf6029d5d6b\" x=\"270.0975\" y=\"186.266226\" style=\"fill: #008000; stroke: #008000; stroke-width: 0.75\"/>\n     <use xlink:href=\"#mf6029d5d6b\" x=\"270.0975\" y=\"197.35706\" style=\"fill: #008000; stroke: #008000; stroke-width: 0.75\"/>\n     <use xlink:href=\"#mf6029d5d6b\" x=\"270.0975\" y=\"191.657668\" style=\"fill: #008000; stroke: #008000; stroke-width: 0.75\"/>\n     <use xlink:href=\"#mf6029d5d6b\" x=\"270.0975\" y=\"188.303238\" style=\"fill: #008000; stroke: #008000; stroke-width: 0.75\"/>\n     <use xlink:href=\"#mf6029d5d6b\" x=\"270.0975\" y=\"191.742368\" style=\"fill: #008000; stroke: #008000; stroke-width: 0.75\"/>\n    </g>\n   </g>\n   <g id=\"line2d_4\">\n    <g clip-path=\"url(#p3e275af750)\">\n     <use xlink:href=\"#mf6029d5d6b\" x=\"270.0975\" y=\"186.678431\" style=\"fill: #008000; stroke: #008000; stroke-width: 0.75\"/>\n     <use xlink:href=\"#mf6029d5d6b\" x=\"270.0975\" y=\"177.162985\" style=\"fill: #008000; stroke: #008000; stroke-width: 0.75\"/>\n     <use xlink:href=\"#mf6029d5d6b\" x=\"270.0975\" y=\"184.122041\" style=\"fill: #008000; stroke: #008000; stroke-width: 0.75\"/>\n     <use xlink:href=\"#mf6029d5d6b\" x=\"270.0975\" y=\"191.499271\" style=\"fill: #008000; stroke: #008000; stroke-width: 0.75\"/>\n     <use xlink:href=\"#mf6029d5d6b\" x=\"270.0975\" y=\"181.29245\" style=\"fill: #008000; stroke: #008000; stroke-width: 0.75\"/>\n     <use xlink:href=\"#mf6029d5d6b\" x=\"270.0975\" y=\"178.703107\" style=\"fill: #008000; stroke: #008000; stroke-width: 0.75\"/>\n     <use xlink:href=\"#mf6029d5d6b\" x=\"270.0975\" y=\"189.075859\" style=\"fill: #008000; stroke: #008000; stroke-width: 0.75\"/>\n     <use xlink:href=\"#mf6029d5d6b\" x=\"270.0975\" y=\"182.926103\" style=\"fill: #008000; stroke: #008000; stroke-width: 0.75\"/>\n     <use xlink:href=\"#mf6029d5d6b\" x=\"270.0975\" y=\"179.6066\" style=\"fill: #008000; stroke: #008000; stroke-width: 0.75\"/>\n     <use xlink:href=\"#mf6029d5d6b\" x=\"270.0975\" y=\"184.059195\" style=\"fill: #008000; stroke: #008000; stroke-width: 0.75\"/>\n    </g>\n   </g>\n   <g id=\"line2d_5\">\n    <path d=\"M -1 260.173284 \nL 9.563446 256.148387 \nL 21.123374 251.507421 \nL 33.572527 246.264712 \nL 46.910905 240.39999 \nL 61.138509 233.897921 \nL 76.255338 226.747625 \nL 93.150617 218.502056 \nL 110.935122 209.574416 \nL 130.498077 199.504227 \nL 151.839482 188.266409 \nL 174.959338 175.842992 \nL 200.746869 161.731607 \nL 229.202077 145.903122 \nL 261.214185 127.832137 \nL 296.783194 107.487645 \nL 335.909104 84.849241 \nL 380.370365 58.861058 \nL 430.166977 29.49248 \nL 481.483334 -1 \nL 481.483334 -1 \n\" clip-path=\"url(#p3e275af750)\" style=\"fill: none; stroke: #ff0000; stroke-linecap: square\"/>\n   </g>\n   <g id=\"line2d_6\">\n    <path d=\"M -1 256.756991 \nL 6.89577 252.924077 \nL 14.898797 248.800837 \nL 22.901824 244.446244 \nL 31.794077 239.346922 \nL 40.686329 233.984516 \nL 49.578581 228.37096 \nL 59.360059 221.920056 \nL 69.141536 215.194943 \nL 78.923014 208.21057 \nL 89.593716 200.312476 \nL 100.264419 192.140842 \nL 111.824347 182.999198 \nL 123.384275 173.576711 \nL 135.833428 163.137098 \nL 148.282581 152.415849 \nL 161.620959 140.639413 \nL 175.848563 127.773293 \nL 190.965392 113.786487 \nL 206.082221 99.500767 \nL 222.088275 84.076783 \nL 238.983554 67.492501 \nL 256.768059 49.729157 \nL 275.441788 30.771134 \nL 295.893968 9.68225 \nL 306.139967 -1 \nL 306.139967 -1 \n\" clip-path=\"url(#p3e275af750)\" style=\"fill: none; stroke: #0000ff; stroke-linecap: square\"/>\n   </g>\n   <g id=\"line2d_7\">\n    <defs>\n     <path id=\"m95df7ba236\" d=\"M 0 2.5 \nC 0.663008 2.5 1.29895 2.236584 1.767767 1.767767 \nC 2.236584 1.29895 2.5 0.663008 2.5 0 \nC 2.5 -0.663008 2.236584 -1.29895 1.767767 -1.767767 \nC 1.29895 -2.236584 0.663008 -2.5 0 -2.5 \nC -0.663008 -2.5 -1.29895 -2.236584 -1.767767 -1.767767 \nC -2.236584 -1.29895 -2.5 -0.663008 -2.5 0 \nC -2.5 0.663008 -2.236584 1.29895 -1.767767 1.767767 \nC -1.29895 2.236584 -0.663008 2.5 0 2.5 \nz\n\" style=\"stroke: #ff0000; stroke-width: 0.75\"/>\n    </defs>\n    <g clip-path=\"url(#p3e275af750)\">\n     <use xlink:href=\"#m95df7ba236\" x=\"270.0975\" y=\"164.457263\" style=\"fill-opacity: 0; stroke: #ff0000; stroke-width: 0.75\"/>\n     <use xlink:href=\"#m95df7ba236\" x=\"270.0975\" y=\"161.417716\" style=\"fill-opacity: 0; stroke: #ff0000; stroke-width: 0.75\"/>\n     <use xlink:href=\"#m95df7ba236\" x=\"270.0975\" y=\"160.758233\" style=\"fill-opacity: 0; stroke: #ff0000; stroke-width: 0.75\"/>\n     <use xlink:href=\"#m95df7ba236\" x=\"270.0975\" y=\"155.934728\" style=\"fill-opacity: 0; stroke: #ff0000; stroke-width: 0.75\"/>\n     <use xlink:href=\"#m95df7ba236\" x=\"270.0975\" y=\"154.995303\" style=\"fill-opacity: 0; stroke: #ff0000; stroke-width: 0.75\"/>\n     <use xlink:href=\"#m95df7ba236\" x=\"270.0975\" y=\"160.310923\" style=\"fill-opacity: 0; stroke: #ff0000; stroke-width: 0.75\"/>\n     <use xlink:href=\"#m95df7ba236\" x=\"270.0975\" y=\"152.611701\" style=\"fill-opacity: 0; stroke: #ff0000; stroke-width: 0.75\"/>\n     <use xlink:href=\"#m95df7ba236\" x=\"270.0975\" y=\"154.501095\" style=\"fill-opacity: 0; stroke: #ff0000; stroke-width: 0.75\"/>\n     <use xlink:href=\"#m95df7ba236\" x=\"270.0975\" y=\"153.97713\" style=\"fill-opacity: 0; stroke: #ff0000; stroke-width: 0.75\"/>\n     <use xlink:href=\"#m95df7ba236\" x=\"270.0975\" y=\"155.431959\" style=\"fill-opacity: 0; stroke: #ff0000; stroke-width: 0.75\"/>\n    </g>\n   </g>\n   <g id=\"line2d_8\">\n    <defs>\n     <path id=\"m3704c1ee2b\" d=\"M 0 2.5 \nC 0.663008 2.5 1.29895 2.236584 1.767767 1.767767 \nC 2.236584 1.29895 2.5 0.663008 2.5 0 \nC 2.5 -0.663008 2.236584 -1.29895 1.767767 -1.767767 \nC 1.29895 -2.236584 0.663008 -2.5 0 -2.5 \nC -0.663008 -2.5 -1.29895 -2.236584 -1.767767 -1.767767 \nC -2.236584 -1.29895 -2.5 -0.663008 -2.5 0 \nC -2.5 0.663008 -2.236584 1.29895 -1.767767 1.767767 \nC -1.29895 2.236584 -0.663008 2.5 0 2.5 \nz\n\" style=\"stroke: #0000ff; stroke-width: 0.75\"/>\n    </defs>\n    <g clip-path=\"url(#p3e275af750)\">\n     <use xlink:href=\"#m3704c1ee2b\" x=\"270.0975\" y=\"191.136431\" style=\"fill-opacity: 0; stroke: #0000ff; stroke-width: 0.75\"/>\n     <use xlink:href=\"#m3704c1ee2b\" x=\"270.0975\" y=\"181.254738\" style=\"fill-opacity: 0; stroke: #0000ff; stroke-width: 0.75\"/>\n     <use xlink:href=\"#m3704c1ee2b\" x=\"270.0975\" y=\"188.13082\" style=\"fill-opacity: 0; stroke: #0000ff; stroke-width: 0.75\"/>\n     <use xlink:href=\"#m3704c1ee2b\" x=\"270.0975\" y=\"195.349729\" style=\"fill-opacity: 0; stroke: #0000ff; stroke-width: 0.75\"/>\n     <use xlink:href=\"#m3704c1ee2b\" x=\"270.0975\" y=\"185.458107\" style=\"fill-opacity: 0; stroke: #0000ff; stroke-width: 0.75\"/>\n     <use xlink:href=\"#m3704c1ee2b\" x=\"270.0975\" y=\"182.484666\" style=\"fill-opacity: 0; stroke: #0000ff; stroke-width: 0.75\"/>\n     <use xlink:href=\"#m3704c1ee2b\" x=\"270.0975\" y=\"193.21646\" style=\"fill-opacity: 0; stroke: #0000ff; stroke-width: 0.75\"/>\n     <use xlink:href=\"#m3704c1ee2b\" x=\"270.0975\" y=\"187.291885\" style=\"fill-opacity: 0; stroke: #0000ff; stroke-width: 0.75\"/>\n     <use xlink:href=\"#m3704c1ee2b\" x=\"270.0975\" y=\"183.954919\" style=\"fill-opacity: 0; stroke: #0000ff; stroke-width: 0.75\"/>\n     <use xlink:href=\"#m3704c1ee2b\" x=\"270.0975\" y=\"187.900781\" style=\"fill-opacity: 0; stroke: #0000ff; stroke-width: 0.75\"/>\n    </g>\n   </g>\n   <g id=\"patch_3\">\n    <path d=\"M 46.8975 352.8 \nL 46.8975 7.2 \n\" style=\"fill: none; stroke: #000000; stroke-linejoin: miter; stroke-linecap: square\"/>\n   </g>\n   <g id=\"patch_4\">\n    <path d=\"M 493.2975 352.8 \nL 493.2975 7.2 \n\" style=\"fill: none; stroke: #000000; stroke-linejoin: miter; stroke-linecap: square\"/>\n   </g>\n   <g id=\"patch_5\">\n    <path d=\"M 46.8975 352.8 \nL 493.2975 352.8 \n\" style=\"fill: none; stroke: #000000; stroke-linejoin: miter; stroke-linecap: square\"/>\n   </g>\n   <g id=\"patch_6\">\n    <path d=\"M 46.8975 7.2 \nL 493.2975 7.2 \n\" style=\"fill: none; stroke: #000000; stroke-linejoin: miter; stroke-linecap: square\"/>\n   </g>\n   <g id=\"matplotlib.axis_1\">\n    <g id=\"xtick_1\">\n     <g id=\"line2d_9\">\n      <defs>\n       <path id=\"m96003c5dbe\" d=\"M 0 0 \nL 0 -4 \n\" style=\"stroke: #000000; stroke-width: 0.5\"/>\n      </defs>\n      <g>\n       <use xlink:href=\"#m96003c5dbe\" x=\"91.5375\" y=\"352.8\" style=\"stroke: #000000; stroke-width: 0.5\"/>\n      </g>\n     </g>\n     <g id=\"line2d_10\">\n      <defs>\n       <path id=\"m6386bcf855\" d=\"M 0 0 \nL 0 4 \n\" style=\"stroke: #000000; stroke-width: 0.5\"/>\n      </defs>\n      <g>\n       <use xlink:href=\"#m6386bcf855\" x=\"91.5375\" y=\"7.2\" style=\"stroke: #000000; stroke-width: 0.5\"/>\n      </g>\n     </g>\n     <g id=\"text_1\">\n      <!-- 0.6 -->\n      <g transform=\"translate(81.995625 365.918125)scale(0.12 -0.12)\">\n       <defs>\n        <path id=\"DejaVuSans-30\" d=\"M 2034 4250 \nQ 1547 4250 1301 3770 \nQ 1056 3291 1056 2328 \nQ 1056 1369 1301 889 \nQ 1547 409 2034 409 \nQ 2525 409 2770 889 \nQ 3016 1369 3016 2328 \nQ 3016 3291 2770 3770 \nQ 2525 4250 2034 4250 \nz\nM 2034 4750 \nQ 2819 4750 3233 4129 \nQ 3647 3509 3647 2328 \nQ 3647 1150 3233 529 \nQ 2819 -91 2034 -91 \nQ 1250 -91 836 529 \nQ 422 1150 422 2328 \nQ 422 3509 836 4129 \nQ 1250 4750 2034 4750 \nz\n\" transform=\"scale(0.015625)\"/>\n        <path id=\"DejaVuSans-2e\" d=\"M 684 794 \nL 1344 794 \nL 1344 0 \nL 684 0 \nL 684 794 \nz\n\" transform=\"scale(0.015625)\"/>\n        <path id=\"DejaVuSans-36\" d=\"M 2113 2584 \nQ 1688 2584 1439 2293 \nQ 1191 2003 1191 1497 \nQ 1191 994 1439 701 \nQ 1688 409 2113 409 \nQ 2538 409 2786 701 \nQ 3034 994 3034 1497 \nQ 3034 2003 2786 2293 \nQ 2538 2584 2113 2584 \nz\nM 3366 4563 \nL 3366 3988 \nQ 3128 4100 2886 4159 \nQ 2644 4219 2406 4219 \nQ 1781 4219 1451 3797 \nQ 1122 3375 1075 2522 \nQ 1259 2794 1537 2939 \nQ 1816 3084 2150 3084 \nQ 2853 3084 3261 2657 \nQ 3669 2231 3669 1497 \nQ 3669 778 3244 343 \nQ 2819 -91 2113 -91 \nQ 1303 -91 875 529 \nQ 447 1150 447 2328 \nQ 447 3434 972 4092 \nQ 1497 4750 2381 4750 \nQ 2619 4750 2861 4703 \nQ 3103 4656 3366 4563 \nz\n\" transform=\"scale(0.015625)\"/>\n       </defs>\n       <use xlink:href=\"#DejaVuSans-30\"/>\n       <use xlink:href=\"#DejaVuSans-2e\" x=\"63.623047\"/>\n       <use xlink:href=\"#DejaVuSans-36\" x=\"95.410156\"/>\n      </g>\n     </g>\n    </g>\n    <g id=\"xtick_2\">\n     <g id=\"line2d_11\">\n      <g>\n       <use xlink:href=\"#m96003c5dbe\" x=\"180.8175\" y=\"352.8\" style=\"stroke: #000000; stroke-width: 0.5\"/>\n      </g>\n     </g>\n     <g id=\"line2d_12\">\n      <g>\n       <use xlink:href=\"#m6386bcf855\" x=\"180.8175\" y=\"7.2\" style=\"stroke: #000000; stroke-width: 0.5\"/>\n      </g>\n     </g>\n     <g id=\"text_2\">\n      <!-- 0.8 -->\n      <g transform=\"translate(171.275625 365.918125)scale(0.12 -0.12)\">\n       <defs>\n        <path id=\"DejaVuSans-38\" d=\"M 2034 2216 \nQ 1584 2216 1326 1975 \nQ 1069 1734 1069 1313 \nQ 1069 891 1326 650 \nQ 1584 409 2034 409 \nQ 2484 409 2743 651 \nQ 3003 894 3003 1313 \nQ 3003 1734 2745 1975 \nQ 2488 2216 2034 2216 \nz\nM 1403 2484 \nQ 997 2584 770 2862 \nQ 544 3141 544 3541 \nQ 544 4100 942 4425 \nQ 1341 4750 2034 4750 \nQ 2731 4750 3128 4425 \nQ 3525 4100 3525 3541 \nQ 3525 3141 3298 2862 \nQ 3072 2584 2669 2484 \nQ 3125 2378 3379 2068 \nQ 3634 1759 3634 1313 \nQ 3634 634 3220 271 \nQ 2806 -91 2034 -91 \nQ 1263 -91 848 271 \nQ 434 634 434 1313 \nQ 434 1759 690 2068 \nQ 947 2378 1403 2484 \nz\nM 1172 3481 \nQ 1172 3119 1398 2916 \nQ 1625 2713 2034 2713 \nQ 2441 2713 2670 2916 \nQ 2900 3119 2900 3481 \nQ 2900 3844 2670 4047 \nQ 2441 4250 2034 4250 \nQ 1625 4250 1398 4047 \nQ 1172 3844 1172 3481 \nz\n\" transform=\"scale(0.015625)\"/>\n       </defs>\n       <use xlink:href=\"#DejaVuSans-30\"/>\n       <use xlink:href=\"#DejaVuSans-2e\" x=\"63.623047\"/>\n       <use xlink:href=\"#DejaVuSans-38\" x=\"95.410156\"/>\n      </g>\n     </g>\n    </g>\n    <g id=\"xtick_3\">\n     <g id=\"line2d_13\">\n      <g>\n       <use xlink:href=\"#m96003c5dbe\" x=\"270.0975\" y=\"352.8\" style=\"stroke: #000000; stroke-width: 0.5\"/>\n      </g>\n     </g>\n     <g id=\"line2d_14\">\n      <g>\n       <use xlink:href=\"#m6386bcf855\" x=\"270.0975\" y=\"7.2\" style=\"stroke: #000000; stroke-width: 0.5\"/>\n      </g>\n     </g>\n     <g id=\"text_3\">\n      <!-- 1.0 -->\n      <g transform=\"translate(260.555625 365.918125)scale(0.12 -0.12)\">\n       <defs>\n        <path id=\"DejaVuSans-31\" d=\"M 794 531 \nL 1825 531 \nL 1825 4091 \nL 703 3866 \nL 703 4441 \nL 1819 4666 \nL 2450 4666 \nL 2450 531 \nL 3481 531 \nL 3481 0 \nL 794 0 \nL 794 531 \nz\n\" transform=\"scale(0.015625)\"/>\n       </defs>\n       <use xlink:href=\"#DejaVuSans-31\"/>\n       <use xlink:href=\"#DejaVuSans-2e\" x=\"63.623047\"/>\n       <use xlink:href=\"#DejaVuSans-30\" x=\"95.410156\"/>\n      </g>\n     </g>\n    </g>\n    <g id=\"xtick_4\">\n     <g id=\"line2d_15\">\n      <g>\n       <use xlink:href=\"#m96003c5dbe\" x=\"359.3775\" y=\"352.8\" style=\"stroke: #000000; stroke-width: 0.5\"/>\n      </g>\n     </g>\n     <g id=\"line2d_16\">\n      <g>\n       <use xlink:href=\"#m6386bcf855\" x=\"359.3775\" y=\"7.2\" style=\"stroke: #000000; stroke-width: 0.5\"/>\n      </g>\n     </g>\n     <g id=\"text_4\">\n      <!-- 1.2 -->\n      <g transform=\"translate(349.835625 365.918125)scale(0.12 -0.12)\">\n       <defs>\n        <path id=\"DejaVuSans-32\" d=\"M 1228 531 \nL 3431 531 \nL 3431 0 \nL 469 0 \nL 469 531 \nQ 828 903 1448 1529 \nQ 2069 2156 2228 2338 \nQ 2531 2678 2651 2914 \nQ 2772 3150 2772 3378 \nQ 2772 3750 2511 3984 \nQ 2250 4219 1831 4219 \nQ 1534 4219 1204 4116 \nQ 875 4013 500 3803 \nL 500 4441 \nQ 881 4594 1212 4672 \nQ 1544 4750 1819 4750 \nQ 2544 4750 2975 4387 \nQ 3406 4025 3406 3419 \nQ 3406 3131 3298 2873 \nQ 3191 2616 2906 2266 \nQ 2828 2175 2409 1742 \nQ 1991 1309 1228 531 \nz\n\" transform=\"scale(0.015625)\"/>\n       </defs>\n       <use xlink:href=\"#DejaVuSans-31\"/>\n       <use xlink:href=\"#DejaVuSans-2e\" x=\"63.623047\"/>\n       <use xlink:href=\"#DejaVuSans-32\" x=\"95.410156\"/>\n      </g>\n     </g>\n    </g>\n    <g id=\"xtick_5\">\n     <g id=\"line2d_17\">\n      <g>\n       <use xlink:href=\"#m96003c5dbe\" x=\"448.6575\" y=\"352.8\" style=\"stroke: #000000; stroke-width: 0.5\"/>\n      </g>\n     </g>\n     <g id=\"line2d_18\">\n      <g>\n       <use xlink:href=\"#m6386bcf855\" x=\"448.6575\" y=\"7.2\" style=\"stroke: #000000; stroke-width: 0.5\"/>\n      </g>\n     </g>\n     <g id=\"text_5\">\n      <!-- 1.4 -->\n      <g transform=\"translate(439.115625 365.918125)scale(0.12 -0.12)\">\n       <defs>\n        <path id=\"DejaVuSans-34\" d=\"M 2419 4116 \nL 825 1625 \nL 2419 1625 \nL 2419 4116 \nz\nM 2253 4666 \nL 3047 4666 \nL 3047 1625 \nL 3713 1625 \nL 3713 1100 \nL 3047 1100 \nL 3047 0 \nL 2419 0 \nL 2419 1100 \nL 313 1100 \nL 313 1709 \nL 2253 4666 \nz\n\" transform=\"scale(0.015625)\"/>\n       </defs>\n       <use xlink:href=\"#DejaVuSans-31\"/>\n       <use xlink:href=\"#DejaVuSans-2e\" x=\"63.623047\"/>\n       <use xlink:href=\"#DejaVuSans-34\" x=\"95.410156\"/>\n      </g>\n     </g>\n    </g>\n    <g id=\"text_6\">\n     <!-- Temperature (K) -->\n     <g transform=\"translate(221.570625 382.531875)scale(0.12 -0.12)\">\n      <defs>\n       <path id=\"DejaVuSans-54\" d=\"M -19 4666 \nL 3928 4666 \nL 3928 4134 \nL 2272 4134 \nL 2272 0 \nL 1638 0 \nL 1638 4134 \nL -19 4134 \nL -19 4666 \nz\n\" transform=\"scale(0.015625)\"/>\n       <path id=\"DejaVuSans-65\" d=\"M 3597 1894 \nL 3597 1613 \nL 953 1613 \nQ 991 1019 1311 708 \nQ 1631 397 2203 397 \nQ 2534 397 2845 478 \nQ 3156 559 3463 722 \nL 3463 178 \nQ 3153 47 2828 -22 \nQ 2503 -91 2169 -91 \nQ 1331 -91 842 396 \nQ 353 884 353 1716 \nQ 353 2575 817 3079 \nQ 1281 3584 2069 3584 \nQ 2775 3584 3186 3129 \nQ 3597 2675 3597 1894 \nz\nM 3022 2063 \nQ 3016 2534 2758 2815 \nQ 2500 3097 2075 3097 \nQ 1594 3097 1305 2825 \nQ 1016 2553 972 2059 \nL 3022 2063 \nz\n\" transform=\"scale(0.015625)\"/>\n       <path id=\"DejaVuSans-6d\" d=\"M 3328 2828 \nQ 3544 3216 3844 3400 \nQ 4144 3584 4550 3584 \nQ 5097 3584 5394 3201 \nQ 5691 2819 5691 2113 \nL 5691 0 \nL 5113 0 \nL 5113 2094 \nQ 5113 2597 4934 2840 \nQ 4756 3084 4391 3084 \nQ 3944 3084 3684 2787 \nQ 3425 2491 3425 1978 \nL 3425 0 \nL 2847 0 \nL 2847 2094 \nQ 2847 2600 2669 2842 \nQ 2491 3084 2119 3084 \nQ 1678 3084 1418 2786 \nQ 1159 2488 1159 1978 \nL 1159 0 \nL 581 0 \nL 581 3500 \nL 1159 3500 \nL 1159 2956 \nQ 1356 3278 1631 3431 \nQ 1906 3584 2284 3584 \nQ 2666 3584 2933 3390 \nQ 3200 3197 3328 2828 \nz\n\" transform=\"scale(0.015625)\"/>\n       <path id=\"DejaVuSans-70\" d=\"M 1159 525 \nL 1159 -1331 \nL 581 -1331 \nL 581 3500 \nL 1159 3500 \nL 1159 2969 \nQ 1341 3281 1617 3432 \nQ 1894 3584 2278 3584 \nQ 2916 3584 3314 3078 \nQ 3713 2572 3713 1747 \nQ 3713 922 3314 415 \nQ 2916 -91 2278 -91 \nQ 1894 -91 1617 61 \nQ 1341 213 1159 525 \nz\nM 3116 1747 \nQ 3116 2381 2855 2742 \nQ 2594 3103 2138 3103 \nQ 1681 3103 1420 2742 \nQ 1159 2381 1159 1747 \nQ 1159 1113 1420 752 \nQ 1681 391 2138 391 \nQ 2594 391 2855 752 \nQ 3116 1113 3116 1747 \nz\n\" transform=\"scale(0.015625)\"/>\n       <path id=\"DejaVuSans-72\" d=\"M 2631 2963 \nQ 2534 3019 2420 3045 \nQ 2306 3072 2169 3072 \nQ 1681 3072 1420 2755 \nQ 1159 2438 1159 1844 \nL 1159 0 \nL 581 0 \nL 581 3500 \nL 1159 3500 \nL 1159 2956 \nQ 1341 3275 1631 3429 \nQ 1922 3584 2338 3584 \nQ 2397 3584 2469 3576 \nQ 2541 3569 2628 3553 \nL 2631 2963 \nz\n\" transform=\"scale(0.015625)\"/>\n       <path id=\"DejaVuSans-61\" d=\"M 2194 1759 \nQ 1497 1759 1228 1600 \nQ 959 1441 959 1056 \nQ 959 750 1161 570 \nQ 1363 391 1709 391 \nQ 2188 391 2477 730 \nQ 2766 1069 2766 1631 \nL 2766 1759 \nL 2194 1759 \nz\nM 3341 1997 \nL 3341 0 \nL 2766 0 \nL 2766 531 \nQ 2569 213 2275 61 \nQ 1981 -91 1556 -91 \nQ 1019 -91 701 211 \nQ 384 513 384 1019 \nQ 384 1609 779 1909 \nQ 1175 2209 1959 2209 \nL 2766 2209 \nL 2766 2266 \nQ 2766 2663 2505 2880 \nQ 2244 3097 1772 3097 \nQ 1472 3097 1187 3025 \nQ 903 2953 641 2809 \nL 641 3341 \nQ 956 3463 1253 3523 \nQ 1550 3584 1831 3584 \nQ 2591 3584 2966 3190 \nQ 3341 2797 3341 1997 \nz\n\" transform=\"scale(0.015625)\"/>\n       <path id=\"DejaVuSans-74\" d=\"M 1172 4494 \nL 1172 3500 \nL 2356 3500 \nL 2356 3053 \nL 1172 3053 \nL 1172 1153 \nQ 1172 725 1289 603 \nQ 1406 481 1766 481 \nL 2356 481 \nL 2356 0 \nL 1766 0 \nQ 1100 0 847 248 \nQ 594 497 594 1153 \nL 594 3053 \nL 172 3053 \nL 172 3500 \nL 594 3500 \nL 594 4494 \nL 1172 4494 \nz\n\" transform=\"scale(0.015625)\"/>\n       <path id=\"DejaVuSans-75\" d=\"M 544 1381 \nL 544 3500 \nL 1119 3500 \nL 1119 1403 \nQ 1119 906 1312 657 \nQ 1506 409 1894 409 \nQ 2359 409 2629 706 \nQ 2900 1003 2900 1516 \nL 2900 3500 \nL 3475 3500 \nL 3475 0 \nL 2900 0 \nL 2900 538 \nQ 2691 219 2414 64 \nQ 2138 -91 1772 -91 \nQ 1169 -91 856 284 \nQ 544 659 544 1381 \nz\nM 1991 3584 \nL 1991 3584 \nz\n\" transform=\"scale(0.015625)\"/>\n       <path id=\"DejaVuSans-20\" transform=\"scale(0.015625)\"/>\n       <path id=\"DejaVuSans-28\" d=\"M 1984 4856 \nQ 1566 4138 1362 3434 \nQ 1159 2731 1159 2009 \nQ 1159 1288 1364 580 \nQ 1569 -128 1984 -844 \nL 1484 -844 \nQ 1016 -109 783 600 \nQ 550 1309 550 2009 \nQ 550 2706 781 3412 \nQ 1013 4119 1484 4856 \nL 1984 4856 \nz\n\" transform=\"scale(0.015625)\"/>\n       <path id=\"DejaVuSans-4b\" d=\"M 628 4666 \nL 1259 4666 \nL 1259 2694 \nL 3353 4666 \nL 4166 4666 \nL 1850 2491 \nL 4331 0 \nL 3500 0 \nL 1259 2247 \nL 1259 0 \nL 628 0 \nL 628 4666 \nz\n\" transform=\"scale(0.015625)\"/>\n       <path id=\"DejaVuSans-29\" d=\"M 513 4856 \nL 1013 4856 \nQ 1481 4119 1714 3412 \nQ 1947 2706 1947 2009 \nQ 1947 1309 1714 600 \nQ 1481 -109 1013 -844 \nL 513 -844 \nQ 928 -128 1133 580 \nQ 1338 1288 1338 2009 \nQ 1338 2731 1133 3434 \nQ 928 4138 513 4856 \nz\n\" transform=\"scale(0.015625)\"/>\n      </defs>\n      <use xlink:href=\"#DejaVuSans-54\"/>\n      <use xlink:href=\"#DejaVuSans-65\" x=\"44.083984\"/>\n      <use xlink:href=\"#DejaVuSans-6d\" x=\"105.607422\"/>\n      <use xlink:href=\"#DejaVuSans-70\" x=\"203.019531\"/>\n      <use xlink:href=\"#DejaVuSans-65\" x=\"266.496094\"/>\n      <use xlink:href=\"#DejaVuSans-72\" x=\"328.019531\"/>\n      <use xlink:href=\"#DejaVuSans-61\" x=\"369.132812\"/>\n      <use xlink:href=\"#DejaVuSans-74\" x=\"430.412109\"/>\n      <use xlink:href=\"#DejaVuSans-75\" x=\"469.621094\"/>\n      <use xlink:href=\"#DejaVuSans-72\" x=\"533\"/>\n      <use xlink:href=\"#DejaVuSans-65\" x=\"571.863281\"/>\n      <use xlink:href=\"#DejaVuSans-20\" x=\"633.386719\"/>\n      <use xlink:href=\"#DejaVuSans-28\" x=\"665.173828\"/>\n      <use xlink:href=\"#DejaVuSans-4b\" x=\"704.1875\"/>\n      <use xlink:href=\"#DejaVuSans-29\" x=\"769.763672\"/>\n     </g>\n    </g>\n   </g>\n   <g id=\"matplotlib.axis_2\">\n    <g id=\"ytick_1\">\n     <g id=\"line2d_19\">\n      <defs>\n       <path id=\"m0de4394849\" d=\"M 0 0 \nL 4 0 \n\" style=\"stroke: #000000; stroke-width: 0.5\"/>\n      </defs>\n      <g>\n       <use xlink:href=\"#m0de4394849\" x=\"46.8975\" y=\"311.328\" style=\"stroke: #000000; stroke-width: 0.5\"/>\n      </g>\n     </g>\n     <g id=\"line2d_20\">\n      <defs>\n       <path id=\"mdcb782054f\" d=\"M 0 0 \nL -4 0 \n\" style=\"stroke: #000000; stroke-width: 0.5\"/>\n      </defs>\n      <g>\n       <use xlink:href=\"#mdcb782054f\" x=\"493.2975\" y=\"311.328\" style=\"stroke: #000000; stroke-width: 0.5\"/>\n      </g>\n     </g>\n     <g id=\"text_7\">\n      <!-- 0.4 -->\n      <g transform=\"translate(23.81375 314.63925)scale(0.12 -0.12)\">\n       <use xlink:href=\"#DejaVuSans-30\"/>\n       <use xlink:href=\"#DejaVuSans-2e\" x=\"63.623047\"/>\n       <use xlink:href=\"#DejaVuSans-34\" x=\"95.410156\"/>\n      </g>\n     </g>\n    </g>\n    <g id=\"ytick_2\">\n     <g id=\"line2d_21\">\n      <g>\n       <use xlink:href=\"#m0de4394849\" x=\"46.8975\" y=\"256.032\" style=\"stroke: #000000; stroke-width: 0.5\"/>\n      </g>\n     </g>\n     <g id=\"line2d_22\">\n      <g>\n       <use xlink:href=\"#mdcb782054f\" x=\"493.2975\" y=\"256.032\" style=\"stroke: #000000; stroke-width: 0.5\"/>\n      </g>\n     </g>\n     <g id=\"text_8\">\n      <!-- 0.6 -->\n      <g transform=\"translate(23.81375 259.34325)scale(0.12 -0.12)\">\n       <use xlink:href=\"#DejaVuSans-30\"/>\n       <use xlink:href=\"#DejaVuSans-2e\" x=\"63.623047\"/>\n       <use xlink:href=\"#DejaVuSans-36\" x=\"95.410156\"/>\n      </g>\n     </g>\n    </g>\n    <g id=\"ytick_3\">\n     <g id=\"line2d_23\">\n      <g>\n       <use xlink:href=\"#m0de4394849\" x=\"46.8975\" y=\"200.736\" style=\"stroke: #000000; stroke-width: 0.5\"/>\n      </g>\n     </g>\n     <g id=\"line2d_24\">\n      <g>\n       <use xlink:href=\"#mdcb782054f\" x=\"493.2975\" y=\"200.736\" style=\"stroke: #000000; stroke-width: 0.5\"/>\n      </g>\n     </g>\n     <g id=\"text_9\">\n      <!-- 0.8 -->\n      <g transform=\"translate(23.81375 204.04725)scale(0.12 -0.12)\">\n       <use xlink:href=\"#DejaVuSans-30\"/>\n       <use xlink:href=\"#DejaVuSans-2e\" x=\"63.623047\"/>\n       <use xlink:href=\"#DejaVuSans-38\" x=\"95.410156\"/>\n      </g>\n     </g>\n    </g>\n    <g id=\"ytick_4\">\n     <g id=\"line2d_25\">\n      <g>\n       <use xlink:href=\"#m0de4394849\" x=\"46.8975\" y=\"145.44\" style=\"stroke: #000000; stroke-width: 0.5\"/>\n      </g>\n     </g>\n     <g id=\"line2d_26\">\n      <g>\n       <use xlink:href=\"#mdcb782054f\" x=\"493.2975\" y=\"145.44\" style=\"stroke: #000000; stroke-width: 0.5\"/>\n      </g>\n     </g>\n     <g id=\"text_10\">\n      <!-- 1.0 -->\n      <g transform=\"translate(23.81375 148.75125)scale(0.12 -0.12)\">\n       <use xlink:href=\"#DejaVuSans-31\"/>\n       <use xlink:href=\"#DejaVuSans-2e\" x=\"63.623047\"/>\n       <use xlink:href=\"#DejaVuSans-30\" x=\"95.410156\"/>\n      </g>\n     </g>\n    </g>\n    <g id=\"ytick_5\">\n     <g id=\"line2d_27\">\n      <g>\n       <use xlink:href=\"#m0de4394849\" x=\"46.8975\" y=\"90.144\" style=\"stroke: #000000; stroke-width: 0.5\"/>\n      </g>\n     </g>\n     <g id=\"line2d_28\">\n      <g>\n       <use xlink:href=\"#mdcb782054f\" x=\"493.2975\" y=\"90.144\" style=\"stroke: #000000; stroke-width: 0.5\"/>\n      </g>\n     </g>\n     <g id=\"text_11\">\n      <!-- 1.2 -->\n      <g transform=\"translate(23.81375 93.45525)scale(0.12 -0.12)\">\n       <use xlink:href=\"#DejaVuSans-31\"/>\n       <use xlink:href=\"#DejaVuSans-2e\" x=\"63.623047\"/>\n       <use xlink:href=\"#DejaVuSans-32\" x=\"95.410156\"/>\n      </g>\n     </g>\n    </g>\n    <g id=\"ytick_6\">\n     <g id=\"line2d_29\">\n      <g>\n       <use xlink:href=\"#m0de4394849\" x=\"46.8975\" y=\"34.848\" style=\"stroke: #000000; stroke-width: 0.5\"/>\n      </g>\n     </g>\n     <g id=\"line2d_30\">\n      <g>\n       <use xlink:href=\"#mdcb782054f\" x=\"493.2975\" y=\"34.848\" style=\"stroke: #000000; stroke-width: 0.5\"/>\n      </g>\n     </g>\n     <g id=\"text_12\">\n      <!-- 1.4 -->\n      <g transform=\"translate(23.81375 38.15925)scale(0.12 -0.12)\">\n       <use xlink:href=\"#DejaVuSans-31\"/>\n       <use xlink:href=\"#DejaVuSans-2e\" x=\"63.623047\"/>\n       <use xlink:href=\"#DejaVuSans-34\" x=\"95.410156\"/>\n      </g>\n     </g>\n    </g>\n    <g id=\"text_13\">\n     <!-- Energy (K) -->\n     <g transform=\"translate(16.318125 211.530937)rotate(-90)scale(0.12 -0.12)\">\n      <defs>\n       <path id=\"DejaVuSans-45\" d=\"M 628 4666 \nL 3578 4666 \nL 3578 4134 \nL 1259 4134 \nL 1259 2753 \nL 3481 2753 \nL 3481 2222 \nL 1259 2222 \nL 1259 531 \nL 3634 531 \nL 3634 0 \nL 628 0 \nL 628 4666 \nz\n\" transform=\"scale(0.015625)\"/>\n       <path id=\"DejaVuSans-6e\" d=\"M 3513 2113 \nL 3513 0 \nL 2938 0 \nL 2938 2094 \nQ 2938 2591 2744 2837 \nQ 2550 3084 2163 3084 \nQ 1697 3084 1428 2787 \nQ 1159 2491 1159 1978 \nL 1159 0 \nL 581 0 \nL 581 3500 \nL 1159 3500 \nL 1159 2956 \nQ 1366 3272 1645 3428 \nQ 1925 3584 2291 3584 \nQ 2894 3584 3203 3211 \nQ 3513 2838 3513 2113 \nz\n\" transform=\"scale(0.015625)\"/>\n       <path id=\"DejaVuSans-67\" d=\"M 2906 1791 \nQ 2906 2416 2648 2759 \nQ 2391 3103 1925 3103 \nQ 1463 3103 1205 2759 \nQ 947 2416 947 1791 \nQ 947 1169 1205 825 \nQ 1463 481 1925 481 \nQ 2391 481 2648 825 \nQ 2906 1169 2906 1791 \nz\nM 3481 434 \nQ 3481 -459 3084 -895 \nQ 2688 -1331 1869 -1331 \nQ 1566 -1331 1297 -1286 \nQ 1028 -1241 775 -1147 \nL 775 -588 \nQ 1028 -725 1275 -790 \nQ 1522 -856 1778 -856 \nQ 2344 -856 2625 -561 \nQ 2906 -266 2906 331 \nL 2906 616 \nQ 2728 306 2450 153 \nQ 2172 0 1784 0 \nQ 1141 0 747 490 \nQ 353 981 353 1791 \nQ 353 2603 747 3093 \nQ 1141 3584 1784 3584 \nQ 2172 3584 2450 3431 \nQ 2728 3278 2906 2969 \nL 2906 3500 \nL 3481 3500 \nL 3481 434 \nz\n\" transform=\"scale(0.015625)\"/>\n       <path id=\"DejaVuSans-79\" d=\"M 2059 -325 \nQ 1816 -950 1584 -1140 \nQ 1353 -1331 966 -1331 \nL 506 -1331 \nL 506 -850 \nL 844 -850 \nQ 1081 -850 1212 -737 \nQ 1344 -625 1503 -206 \nL 1606 56 \nL 191 3500 \nL 800 3500 \nL 1894 763 \nL 2988 3500 \nL 3597 3500 \nL 2059 -325 \nz\n\" transform=\"scale(0.015625)\"/>\n      </defs>\n      <use xlink:href=\"#DejaVuSans-45\"/>\n      <use xlink:href=\"#DejaVuSans-6e\" x=\"63.183594\"/>\n      <use xlink:href=\"#DejaVuSans-65\" x=\"126.5625\"/>\n      <use xlink:href=\"#DejaVuSans-72\" x=\"188.085938\"/>\n      <use xlink:href=\"#DejaVuSans-67\" x=\"227.449219\"/>\n      <use xlink:href=\"#DejaVuSans-79\" x=\"290.925781\"/>\n      <use xlink:href=\"#DejaVuSans-20\" x=\"350.105469\"/>\n      <use xlink:href=\"#DejaVuSans-28\" x=\"381.892578\"/>\n      <use xlink:href=\"#DejaVuSans-4b\" x=\"420.90625\"/>\n      <use xlink:href=\"#DejaVuSans-29\" x=\"486.482422\"/>\n     </g>\n    </g>\n   </g>\n   <g id=\"legend_1\">\n    <g id=\"patch_7\">\n     <path d=\"M 54.0975 105.687 \nL 315.0255 105.687 \nL 315.0255 14.4 \nL 54.0975 14.4 \nz\n\" style=\"fill: #ffffff; stroke: #000000; stroke-linejoin: miter\"/>\n    </g>\n    <g id=\"line2d_31\">\n     <path d=\"M 64.1775 26.06175 \nL 84.3375 26.06175 \n\" style=\"fill: none; stroke: #ff0000; stroke-linecap: square\"/>\n    </g>\n    <g id=\"text_14\">\n     <!-- $N=2$ $E_{exact}/N$ -->\n     <g transform=\"translate(100.1775 31.10175)scale(0.144 -0.144)\">\n      <defs>\n       <path id=\"Cmmi10-4e\" d=\"M 300 0 \nQ 238 0 238 84 \nQ 241 100 250 139 \nQ 259 178 276 201 \nQ 294 225 319 225 \nQ 931 225 1031 616 \nL 1900 4116 \nQ 1722 4147 1338 4147 \nQ 1275 4147 1275 4231 \nQ 1278 4247 1287 4286 \nQ 1297 4325 1314 4348 \nQ 1331 4372 1356 4372 \nL 2463 4372 \nQ 2509 4372 2522 4331 \nL 3944 947 \nL 4653 3781 \nQ 4666 3850 4666 3878 \nQ 4666 4147 4172 4147 \nQ 4109 4147 4109 4231 \nQ 4131 4313 4143 4342 \nQ 4156 4372 4219 4372 \nL 5588 4372 \nQ 5650 4372 5650 4288 \nQ 5647 4272 5637 4233 \nQ 5628 4194 5611 4170 \nQ 5594 4147 5569 4147 \nQ 4956 4147 4856 3756 \nL 3938 56 \nQ 3916 0 3872 0 \nL 3794 0 \nQ 3750 0 3738 44 \nL 2106 3916 \nL 2094 3956 \nQ 2081 3969 2081 3975 \nL 1234 588 \nQ 1228 572 1225 548 \nQ 1222 525 1216 494 \nQ 1216 328 1359 276 \nQ 1503 225 1716 225 \nQ 1778 225 1778 141 \nQ 1756 53 1740 26 \nQ 1725 0 1672 0 \nL 300 0 \nz\n\" transform=\"scale(0.015625)\"/>\n       <path id=\"Cmr10-3d\" d=\"M 481 850 \nQ 428 850 393 890 \nQ 359 931 359 978 \nQ 359 1031 393 1068 \nQ 428 1106 481 1106 \nL 4500 1106 \nQ 4547 1106 4581 1068 \nQ 4616 1031 4616 978 \nQ 4616 931 4581 890 \nQ 4547 850 4500 850 \nL 481 850 \nz\nM 481 2094 \nQ 428 2094 393 2131 \nQ 359 2169 359 2222 \nQ 359 2269 393 2309 \nQ 428 2350 481 2350 \nL 4500 2350 \nQ 4547 2350 4581 2309 \nQ 4616 2269 4616 2222 \nQ 4616 2169 4581 2131 \nQ 4547 2094 4500 2094 \nL 481 2094 \nz\n\" transform=\"scale(0.015625)\"/>\n       <path id=\"Cmr10-32\" d=\"M 319 0 \nL 319 172 \nQ 319 188 331 206 \nL 1325 1306 \nQ 1550 1550 1690 1715 \nQ 1831 1881 1968 2097 \nQ 2106 2313 2186 2536 \nQ 2266 2759 2266 3009 \nQ 2266 3272 2169 3511 \nQ 2072 3750 1880 3894 \nQ 1688 4038 1416 4038 \nQ 1138 4038 916 3870 \nQ 694 3703 603 3438 \nQ 628 3444 672 3444 \nQ 816 3444 917 3347 \nQ 1019 3250 1019 3097 \nQ 1019 2950 917 2848 \nQ 816 2747 672 2747 \nQ 522 2747 420 2851 \nQ 319 2956 319 3097 \nQ 319 3338 409 3548 \nQ 500 3759 670 3923 \nQ 841 4088 1055 4175 \nQ 1269 4263 1509 4263 \nQ 1875 4263 2190 4108 \nQ 2506 3953 2690 3670 \nQ 2875 3388 2875 3009 \nQ 2875 2731 2753 2481 \nQ 2631 2231 2440 2026 \nQ 2250 1822 1953 1562 \nQ 1656 1303 1563 1216 \nL 838 519 \nL 1453 519 \nQ 1906 519 2211 526 \nQ 2516 534 2534 550 \nQ 2609 631 2688 1141 \nL 2875 1141 \nL 2694 0 \nL 319 0 \nz\n\" transform=\"scale(0.015625)\"/>\n       <path id=\"Cmmi10-45\" d=\"M 300 0 \nQ 238 0 238 84 \nQ 241 100 250 139 \nQ 259 178 276 201 \nQ 294 225 319 225 \nQ 709 225 863 269 \nQ 947 297 984 441 \nL 1863 3956 \nQ 1875 4019 1875 4044 \nQ 1875 4113 1797 4122 \nQ 1678 4147 1338 4147 \nQ 1275 4147 1275 4231 \nQ 1278 4247 1287 4286 \nQ 1297 4325 1314 4348 \nQ 1331 4372 1356 4372 \nL 4825 4372 \nQ 4891 4372 4891 4288 \nL 4738 2963 \nQ 4738 2947 4714 2926 \nQ 4691 2906 4672 2906 \nL 4616 2906 \nQ 4550 2906 4550 2988 \nQ 4588 3300 4588 3450 \nQ 4588 3706 4500 3848 \nQ 4413 3991 4267 4053 \nQ 4122 4116 3945 4131 \nQ 3769 4147 3481 4147 \nL 2753 4147 \nQ 2578 4147 2522 4117 \nQ 2466 4088 2419 3928 \nL 2034 2381 \nL 2534 2381 \nQ 2859 2381 3025 2426 \nQ 3191 2472 3287 2615 \nQ 3384 2759 3463 3072 \nQ 3469 3094 3486 3111 \nQ 3503 3128 3525 3128 \nL 3584 3128 \nQ 3647 3128 3647 3047 \nL 3250 1466 \nQ 3238 1409 3188 1409 \nL 3128 1409 \nQ 3066 1409 3066 1491 \nQ 3128 1747 3128 1869 \nQ 3128 2056 2959 2106 \nQ 2791 2156 2509 2156 \nL 1978 2156 \nL 1544 416 \nQ 1516 338 1516 275 \nQ 1516 225 1734 225 \nL 2509 225 \nQ 2972 225 3259 297 \nQ 3547 369 3736 526 \nQ 3925 684 4062 928 \nQ 4200 1172 4397 1638 \nQ 4409 1678 4453 1678 \nL 4513 1678 \nQ 4538 1678 4556 1656 \nQ 4575 1634 4575 1606 \nQ 4575 1594 4569 1581 \nL 3909 38 \nQ 3897 0 3859 0 \nL 300 0 \nz\n\" transform=\"scale(0.015625)\"/>\n       <path id=\"Cmmi10-65\" d=\"M 1288 -72 \nQ 981 -72 751 87 \nQ 522 247 401 517 \nQ 281 788 281 1088 \nQ 281 1544 511 1945 \nQ 741 2347 1134 2587 \nQ 1528 2828 1978 2828 \nQ 2253 2828 2458 2686 \nQ 2663 2544 2663 2278 \nQ 2663 1909 2369 1729 \nQ 2075 1550 1706 1508 \nQ 1338 1466 891 1466 \nL 872 1466 \nQ 769 1084 769 813 \nQ 769 528 900 312 \nQ 1031 97 1300 97 \nQ 1681 97 2032 272 \nQ 2384 447 2606 756 \nQ 2625 775 2656 775 \nQ 2688 775 2720 739 \nQ 2753 703 2753 672 \nQ 2753 647 2741 634 \nQ 2506 306 2109 117 \nQ 1713 -72 1288 -72 \nz\nM 909 1631 \nQ 1281 1631 1597 1665 \nQ 1913 1700 2169 1839 \nQ 2425 1978 2425 2272 \nQ 2425 2391 2359 2480 \nQ 2294 2569 2189 2616 \nQ 2084 2663 1972 2663 \nQ 1700 2663 1483 2516 \nQ 1266 2369 1125 2133 \nQ 984 1897 909 1631 \nz\n\" transform=\"scale(0.015625)\"/>\n       <path id=\"Cmmi10-78\" d=\"M 500 184 \nQ 613 97 819 97 \nQ 1019 97 1172 289 \nQ 1325 481 1381 709 \nL 1672 1844 \nQ 1741 2153 1741 2266 \nQ 1741 2425 1652 2544 \nQ 1563 2663 1403 2663 \nQ 1200 2663 1022 2536 \nQ 844 2409 722 2214 \nQ 600 2019 550 1819 \nQ 538 1778 500 1778 \nL 422 1778 \nQ 372 1778 372 1838 \nL 372 1856 \nQ 434 2094 584 2320 \nQ 734 2547 951 2687 \nQ 1169 2828 1416 2828 \nQ 1650 2828 1839 2703 \nQ 2028 2578 2106 2363 \nQ 2216 2559 2386 2693 \nQ 2556 2828 2759 2828 \nQ 2897 2828 3040 2779 \nQ 3184 2731 3275 2631 \nQ 3366 2531 3366 2381 \nQ 3366 2219 3261 2101 \nQ 3156 1984 2994 1984 \nQ 2891 1984 2822 2050 \nQ 2753 2116 2753 2216 \nQ 2753 2350 2845 2451 \nQ 2938 2553 3066 2572 \nQ 2950 2663 2747 2663 \nQ 2541 2663 2389 2472 \nQ 2238 2281 2175 2047 \nL 1894 916 \nQ 1825 659 1825 494 \nQ 1825 331 1917 214 \nQ 2009 97 2163 97 \nQ 2463 97 2698 361 \nQ 2934 625 3009 941 \nQ 3022 978 3059 978 \nL 3138 978 \nQ 3163 978 3178 961 \nQ 3194 944 3194 922 \nQ 3194 916 3188 903 \nQ 3097 522 2806 225 \nQ 2516 -72 2150 -72 \nQ 1916 -72 1727 54 \nQ 1538 181 1459 397 \nQ 1359 209 1182 68 \nQ 1006 -72 806 -72 \nQ 669 -72 523 -23 \nQ 378 25 287 125 \nQ 197 225 197 378 \nQ 197 528 301 651 \nQ 406 775 563 775 \nQ 669 775 741 711 \nQ 813 647 813 544 \nQ 813 409 723 309 \nQ 634 209 500 184 \nz\n\" transform=\"scale(0.015625)\"/>\n       <path id=\"Cmmi10-61\" d=\"M 1113 -72 \nQ 709 -72 476 233 \nQ 244 538 244 953 \nQ 244 1363 456 1803 \nQ 669 2244 1030 2536 \nQ 1391 2828 1806 2828 \nQ 1997 2828 2147 2725 \nQ 2297 2622 2381 2444 \nQ 2453 2700 2663 2700 \nQ 2744 2700 2798 2651 \nQ 2853 2603 2853 2522 \nQ 2853 2503 2851 2493 \nQ 2850 2484 2847 2472 \nL 2400 684 \nQ 2356 494 2356 372 \nQ 2356 97 2541 97 \nQ 2741 97 2845 351 \nQ 2950 606 3022 941 \nQ 3034 978 3072 978 \nL 3150 978 \nQ 3175 978 3190 956 \nQ 3206 934 3206 916 \nQ 3094 469 2961 198 \nQ 2828 -72 2528 -72 \nQ 2313 -72 2147 54 \nQ 1981 181 1941 391 \nQ 1528 -72 1113 -72 \nz\nM 1119 97 \nQ 1350 97 1567 270 \nQ 1784 444 1941 678 \nQ 1947 684 1947 697 \nL 2291 2088 \nL 2297 2106 \nQ 2259 2334 2132 2498 \nQ 2006 2663 1791 2663 \nQ 1575 2663 1389 2486 \nQ 1203 2309 1075 2069 \nQ 950 1813 836 1366 \nQ 722 919 722 672 \nQ 722 450 817 273 \nQ 913 97 1119 97 \nz\n\" transform=\"scale(0.015625)\"/>\n       <path id=\"Cmmi10-63\" d=\"M 750 763 \nQ 750 484 892 290 \nQ 1034 97 1300 97 \nQ 1681 97 2032 272 \nQ 2384 447 2606 756 \nQ 2625 775 2656 775 \nQ 2688 775 2720 739 \nQ 2753 703 2753 672 \nQ 2753 647 2741 634 \nQ 2506 306 2109 117 \nQ 1713 -72 1288 -72 \nQ 981 -72 747 73 \nQ 513 219 384 462 \nQ 256 706 256 1013 \nQ 256 1444 497 1869 \nQ 738 2294 1138 2561 \nQ 1538 2828 1978 2828 \nQ 2266 2828 2495 2689 \nQ 2725 2550 2725 2278 \nQ 2725 2103 2623 1979 \nQ 2522 1856 2350 1856 \nQ 2247 1856 2176 1920 \nQ 2106 1984 2106 2088 \nQ 2106 2238 2215 2344 \nQ 2325 2450 2472 2450 \nL 2484 2450 \nQ 2409 2559 2267 2611 \nQ 2125 2663 1972 2663 \nQ 1597 2663 1315 2342 \nQ 1034 2022 892 1576 \nQ 750 1131 750 763 \nz\n\" transform=\"scale(0.015625)\"/>\n       <path id=\"Cmmi10-74\" d=\"M 397 519 \nQ 397 613 416 697 \nL 878 2534 \nL 206 2534 \nQ 141 2534 141 2619 \nQ 166 2759 225 2759 \nL 934 2759 \nL 1191 3803 \nQ 1216 3888 1291 3947 \nQ 1366 4006 1459 4006 \nQ 1541 4006 1595 3957 \nQ 1650 3909 1650 3828 \nQ 1650 3809 1648 3798 \nQ 1647 3788 1644 3775 \nL 1388 2759 \nL 2047 2759 \nQ 2113 2759 2113 2675 \nQ 2109 2659 2100 2621 \nQ 2091 2584 2075 2559 \nQ 2059 2534 2028 2534 \nL 1331 2534 \nL 872 684 \nQ 825 503 825 372 \nQ 825 97 1013 97 \nQ 1294 97 1511 361 \nQ 1728 625 1844 941 \nQ 1869 978 1894 978 \nL 1972 978 \nQ 1997 978 2012 961 \nQ 2028 944 2028 922 \nQ 2028 909 2022 903 \nQ 1881 516 1612 222 \nQ 1344 -72 997 -72 \nQ 744 -72 570 93 \nQ 397 259 397 519 \nz\n\" transform=\"scale(0.015625)\"/>\n       <path id=\"Cmmi10-3d\" d=\"M 359 -1472 \nQ 359 -1453 366 -1447 \nL 2591 4722 \nQ 2603 4759 2634 4779 \nQ 2666 4800 2706 4800 \nQ 2763 4800 2798 4765 \nQ 2834 4731 2834 4672 \nL 2834 4647 \nL 609 -1522 \nQ 572 -1600 488 -1600 \nQ 434 -1600 396 -1562 \nQ 359 -1525 359 -1472 \nz\n\" transform=\"scale(0.015625)\"/>\n      </defs>\n      <use xlink:href=\"#Cmmi10-4e\"/>\n      <use xlink:href=\"#Cmr10-3d\" transform=\"translate(97.880859 0)\"/>\n      <use xlink:href=\"#Cmr10-32\" transform=\"translate(193.125 0)\"/>\n      <use xlink:href=\"#DejaVuSans-20\" transform=\"translate(243.125 0)\"/>\n      <use xlink:href=\"#Cmmi10-45\" transform=\"translate(274.912109 0)\"/>\n      <use xlink:href=\"#Cmmi10-65\" transform=\"translate(348.691406 -17.00625)scale(0.7)\"/>\n      <use xlink:href=\"#Cmmi10-78\" transform=\"translate(381.230469 -17.00625)scale(0.7)\"/>\n      <use xlink:href=\"#Cmmi10-61\" transform=\"translate(421.186523 -17.00625)scale(0.7)\"/>\n      <use xlink:href=\"#Cmmi10-63\" transform=\"translate(458.134766 -17.00625)scale(0.7)\"/>\n      <use xlink:href=\"#Cmmi10-74\" transform=\"translate(488.383789 -17.00625)scale(0.7)\"/>\n      <use xlink:href=\"#Cmmi10-3d\" transform=\"translate(520.019922 0)\"/>\n      <use xlink:href=\"#Cmmi10-4e\" transform=\"translate(570.019922 0)\"/>\n     </g>\n    </g>\n    <g id=\"line2d_32\">\n     <path d=\"M 64.1775 47.8035 \nL 84.3375 47.8035 \n\" style=\"fill: none; stroke: #0000ff; stroke-linecap: square\"/>\n    </g>\n    <g id=\"text_15\">\n     <!-- $N=3\\ E_{exact}/N$ -->\n     <g transform=\"translate(100.1775 52.8435)scale(0.144 -0.144)\">\n      <defs>\n       <path id=\"Cmr10-33\" d=\"M 609 494 \nQ 759 275 1012 169 \nQ 1266 63 1556 63 \nQ 1928 63 2084 380 \nQ 2241 697 2241 1100 \nQ 2241 1281 2208 1462 \nQ 2175 1644 2097 1800 \nQ 2019 1956 1883 2050 \nQ 1747 2144 1550 2144 \nL 1125 2144 \nQ 1069 2144 1069 2203 \nL 1069 2259 \nQ 1069 2309 1125 2309 \nL 1478 2338 \nQ 1703 2338 1851 2506 \nQ 2000 2675 2069 2917 \nQ 2138 3159 2138 3378 \nQ 2138 3684 1994 3881 \nQ 1850 4078 1556 4078 \nQ 1313 4078 1091 3986 \nQ 869 3894 738 3706 \nQ 750 3709 759 3711 \nQ 769 3713 781 3713 \nQ 925 3713 1022 3613 \nQ 1119 3513 1119 3372 \nQ 1119 3234 1022 3134 \nQ 925 3034 781 3034 \nQ 641 3034 541 3134 \nQ 441 3234 441 3372 \nQ 441 3647 606 3850 \nQ 772 4053 1033 4158 \nQ 1294 4263 1556 4263 \nQ 1750 4263 1965 4205 \nQ 2181 4147 2356 4039 \nQ 2531 3931 2642 3762 \nQ 2753 3594 2753 3378 \nQ 2753 3109 2633 2881 \nQ 2513 2653 2303 2487 \nQ 2094 2322 1844 2241 \nQ 2122 2188 2372 2031 \nQ 2622 1875 2773 1631 \nQ 2925 1388 2925 1106 \nQ 2925 753 2731 467 \nQ 2538 181 2222 20 \nQ 1906 -141 1556 -141 \nQ 1256 -141 954 -26 \nQ 653 88 461 316 \nQ 269 544 269 863 \nQ 269 1022 375 1128 \nQ 481 1234 641 1234 \nQ 744 1234 830 1186 \nQ 916 1138 964 1050 \nQ 1013 963 1013 863 \nQ 1013 706 903 600 \nQ 794 494 641 494 \nL 609 494 \nz\n\" transform=\"scale(0.015625)\"/>\n      </defs>\n      <use xlink:href=\"#Cmmi10-4e\"/>\n      <use xlink:href=\"#Cmr10-3d\" transform=\"translate(97.880859 0)\"/>\n      <use xlink:href=\"#Cmr10-33\" transform=\"translate(193.125 0)\"/>\n      <use xlink:href=\"#Cmmi10-45\" transform=\"translate(272.38903 0)\"/>\n      <use xlink:href=\"#Cmmi10-65\" transform=\"translate(346.168327 -17.00625)scale(0.7)\"/>\n      <use xlink:href=\"#Cmmi10-78\" transform=\"translate(378.70739 -17.00625)scale(0.7)\"/>\n      <use xlink:href=\"#Cmmi10-61\" transform=\"translate(418.663444 -17.00625)scale(0.7)\"/>\n      <use xlink:href=\"#Cmmi10-63\" transform=\"translate(455.611687 -17.00625)scale(0.7)\"/>\n      <use xlink:href=\"#Cmmi10-74\" transform=\"translate(485.86071 -17.00625)scale(0.7)\"/>\n      <use xlink:href=\"#Cmmi10-3d\" transform=\"translate(517.496843 0)\"/>\n      <use xlink:href=\"#Cmmi10-4e\" transform=\"translate(567.496843 0)\"/>\n     </g>\n    </g>\n    <g id=\"LineCollection_3\">\n     <path d=\"M 64.1775 76.74525 \nL 64.1775 62.34525 \n\" style=\"fill: none; stroke: #0000ff; stroke-width: 0.5\"/>\n     <path d=\"M 84.3375 76.74525 \nL 84.3375 62.34525 \n\" style=\"fill: none; stroke: #0000ff; stroke-width: 0.5\"/>\n    </g>\n    <g id=\"line2d_33\">\n     <g>\n      <use xlink:href=\"#md245ef4e3f\" x=\"64.1775\" y=\"76.74525\" style=\"fill: #0000ff; stroke: #0000ff; stroke-width: 0.75\"/>\n      <use xlink:href=\"#md245ef4e3f\" x=\"84.3375\" y=\"76.74525\" style=\"fill: #0000ff; stroke: #0000ff; stroke-width: 0.75\"/>\n     </g>\n    </g>\n    <g id=\"line2d_34\">\n     <g>\n      <use xlink:href=\"#md245ef4e3f\" x=\"64.1775\" y=\"62.34525\" style=\"fill: #0000ff; stroke: #0000ff; stroke-width: 0.75\"/>\n      <use xlink:href=\"#md245ef4e3f\" x=\"84.3375\" y=\"62.34525\" style=\"fill: #0000ff; stroke: #0000ff; stroke-width: 0.75\"/>\n     </g>\n    </g>\n    <g id=\"line2d_35\"/>\n    <g id=\"line2d_36\">\n     <g>\n      <use xlink:href=\"#m95df7ba236\" x=\"64.1775\" y=\"69.54525\" style=\"fill-opacity: 0; stroke: #ff0000; stroke-width: 0.75\"/>\n      <use xlink:href=\"#m95df7ba236\" x=\"84.3375\" y=\"69.54525\" style=\"fill-opacity: 0; stroke: #ff0000; stroke-width: 0.75\"/>\n     </g>\n    </g>\n    <g id=\"text_16\">\n     <!-- $\\mu_2 \\in [0.09,0.13]$ $N=2$, $Δτ=0.002$ -->\n     <g transform=\"translate(100.1775 74.58525)scale(0.144 -0.144)\">\n      <defs>\n       <path id=\"Cmmi10-b9\" d=\"M 178 -1203 \nQ 178 -1166 184 -1153 \nL 1125 2625 \nQ 1153 2716 1226 2772 \nQ 1300 2828 1394 2828 \nQ 1475 2828 1531 2779 \nQ 1588 2731 1588 2650 \nQ 1588 2631 1586 2620 \nQ 1584 2609 1581 2597 \nL 1203 1100 \nQ 1141 834 1141 641 \nQ 1141 403 1253 250 \nQ 1366 97 1594 97 \nQ 2059 97 2413 678 \nQ 2416 684 2417 687 \nQ 2419 691 2419 697 \nL 2881 2553 \nQ 2903 2638 2981 2698 \nQ 3059 2759 3150 2759 \nQ 3225 2759 3283 2709 \nQ 3341 2659 3341 2578 \nQ 3341 2541 3334 2528 \nL 2875 684 \nQ 2828 503 2828 372 \nQ 2828 97 3016 97 \nQ 3216 97 3317 344 \nQ 3419 591 3494 941 \nQ 3506 978 3547 978 \nL 3622 978 \nQ 3647 978 3664 958 \nQ 3681 938 3681 916 \nQ 3569 469 3436 198 \nQ 3303 -72 3003 -72 \nQ 2791 -72 2627 50 \nQ 2463 172 2413 378 \nQ 2253 178 2039 53 \nQ 1825 -72 1588 -72 \nQ 1188 -72 959 116 \nL 634 -1178 \nQ 616 -1269 541 -1325 \nQ 466 -1381 372 -1381 \nQ 294 -1381 236 -1332 \nQ 178 -1284 178 -1203 \nz\n\" transform=\"scale(0.015625)\"/>\n       <path id=\"Cmsy10-32\" d=\"M 1356 403 \nQ 1838 0 2497 0 \nL 3616 0 \nQ 3666 0 3698 -37 \nQ 3731 -75 3731 -128 \nQ 3731 -175 3698 -215 \nQ 3666 -256 3616 -256 \nL 2478 -256 \nQ 1969 -256 1519 -12 \nQ 1069 231 800 657 \nQ 531 1084 531 1600 \nQ 531 2116 800 2542 \nQ 1069 2969 1519 3212 \nQ 1969 3456 2478 3456 \nL 3616 3456 \nQ 3666 3456 3698 3415 \nQ 3731 3375 3731 3328 \nQ 3731 3275 3698 3237 \nQ 3666 3200 3616 3200 \nL 2497 3200 \nQ 2184 3200 1889 3097 \nQ 1594 2994 1356 2797 \nQ 1122 2600 958 2304 \nQ 794 2009 794 1728 \nL 3616 1728 \nQ 3666 1728 3698 1687 \nQ 3731 1647 3731 1600 \nQ 3731 1553 3698 1512 \nQ 3666 1472 3616 1472 \nL 794 1472 \nQ 794 1194 958 897 \nQ 1122 600 1356 403 \nz\n\" transform=\"scale(0.015625)\"/>\n       <path id=\"Cmr10-5b\" d=\"M 756 -1600 \nL 756 4800 \nL 1631 4800 \nL 1631 4544 \nL 1013 4544 \nL 1013 -1344 \nL 1631 -1344 \nL 1631 -1600 \nL 756 -1600 \nz\n\" transform=\"scale(0.015625)\"/>\n       <path id=\"Cmr10-30\" d=\"M 1600 -141 \nQ 816 -141 533 504 \nQ 250 1150 250 2041 \nQ 250 2597 351 3087 \nQ 453 3578 754 3920 \nQ 1056 4263 1600 4263 \nQ 2022 4263 2290 4056 \nQ 2559 3850 2700 3523 \nQ 2841 3197 2892 2823 \nQ 2944 2450 2944 2041 \nQ 2944 1491 2842 1011 \nQ 2741 531 2444 195 \nQ 2147 -141 1600 -141 \nz\nM 1600 25 \nQ 1956 25 2131 390 \nQ 2306 756 2347 1200 \nQ 2388 1644 2388 2144 \nQ 2388 2625 2347 3031 \nQ 2306 3438 2132 3767 \nQ 1959 4097 1600 4097 \nQ 1238 4097 1063 3765 \nQ 888 3434 847 3029 \nQ 806 2625 806 2144 \nQ 806 1788 823 1472 \nQ 841 1156 916 820 \nQ 991 484 1158 254 \nQ 1325 25 1600 25 \nz\n\" transform=\"scale(0.015625)\"/>\n       <path id=\"Cmmi10-3a\" d=\"M 538 353 \nQ 538 497 644 600 \nQ 750 703 891 703 \nQ 978 703 1062 656 \nQ 1147 609 1194 525 \nQ 1241 441 1241 353 \nQ 1241 213 1137 106 \nQ 1034 0 891 0 \nQ 750 0 644 106 \nQ 538 213 538 353 \nz\n\" transform=\"scale(0.015625)\"/>\n       <path id=\"Cmr10-39\" d=\"M 722 269 \nQ 897 63 1331 63 \nQ 1575 63 1786 228 \nQ 1997 394 2113 634 \nQ 2247 906 2284 1214 \nQ 2322 1522 2322 1978 \nQ 2213 1719 2008 1553 \nQ 1803 1388 1538 1388 \nQ 1166 1388 873 1589 \nQ 581 1791 425 2120 \nQ 269 2450 269 2822 \nQ 269 3206 444 3539 \nQ 619 3872 928 4067 \nQ 1238 4263 1631 4263 \nQ 2019 4263 2280 4052 \nQ 2541 3841 2678 3508 \nQ 2816 3175 2870 2803 \nQ 2925 2431 2925 2069 \nQ 2925 1575 2744 1061 \nQ 2563 547 2202 203 \nQ 1841 -141 1331 -141 \nQ 953 -141 690 37 \nQ 428 216 428 575 \nQ 428 706 517 795 \nQ 606 884 738 884 \nQ 866 884 955 795 \nQ 1044 706 1044 575 \nQ 1044 450 953 359 \nQ 863 269 738 269 \nL 722 269 \nz\nM 1563 1556 \nQ 1825 1556 1992 1732 \nQ 2159 1909 2234 2171 \nQ 2309 2434 2309 2694 \nL 2309 2816 \nL 2309 2841 \nQ 2309 3322 2168 3700 \nQ 2028 4078 1631 4078 \nQ 1378 4078 1220 3967 \nQ 1063 3856 988 3672 \nQ 913 3488 892 3278 \nQ 872 3069 872 2822 \nQ 872 2459 906 2203 \nQ 941 1947 1094 1751 \nQ 1247 1556 1563 1556 \nz\n\" transform=\"scale(0.015625)\"/>\n       <path id=\"Cmmi10-3b\" d=\"M 634 -1153 \nQ 634 -1125 659 -1100 \nQ 891 -878 1019 -587 \nQ 1147 -297 1147 25 \nL 1147 103 \nQ 1044 0 891 0 \nQ 744 0 641 103 \nQ 538 206 538 353 \nQ 538 503 641 603 \nQ 744 703 891 703 \nQ 1119 703 1216 492 \nQ 1313 281 1313 25 \nQ 1313 -331 1170 -651 \nQ 1028 -972 769 -1228 \nQ 744 -1241 728 -1241 \nQ 697 -1241 665 -1212 \nQ 634 -1184 634 -1153 \nz\n\" transform=\"scale(0.015625)\"/>\n       <path id=\"Cmr10-31\" d=\"M 594 0 \nL 594 225 \nQ 1394 225 1394 428 \nL 1394 3788 \nQ 1063 3628 556 3628 \nL 556 3853 \nQ 1341 3853 1741 4263 \nL 1831 4263 \nQ 1853 4263 1873 4245 \nQ 1894 4228 1894 4206 \nL 1894 428 \nQ 1894 225 2694 225 \nL 2694 0 \nL 594 0 \nz\n\" transform=\"scale(0.015625)\"/>\n       <path id=\"Cmr10-5d\" d=\"M 141 -1600 \nL 141 -1344 \nL 763 -1344 \nL 763 4544 \nL 141 4544 \nL 141 4800 \nL 1019 4800 \nL 1019 -1600 \nL 141 -1600 \nz\n\" transform=\"scale(0.015625)\"/>\n       <path id=\"DejaVuSans-2c\" d=\"M 750 794 \nL 1409 794 \nL 1409 256 \nL 897 -744 \nL 494 -744 \nL 750 256 \nL 750 794 \nz\n\" transform=\"scale(0.015625)\"/>\n       <path id=\"STIXGeneral-Regular-394\" d=\"M 4320 0 \nL 307 0 \nL 2221 4314 \nL 2349 4314 \nL 4320 0 \nz\nM 3354 589 \nL 2118 3405 \nL 870 589 \nL 3354 589 \nz\n\" transform=\"scale(0.015625)\"/>\n       <path id=\"STIXGeneral-Italic-3c4\" d=\"M 2726 2739 \nL 2592 2266 \nL 1741 2266 \nQ 1293 1248 1293 742 \nQ 1293 416 1523 416 \nQ 1638 416 1779 547 \nQ 1920 678 2003 858 \nL 2106 858 \nQ 1990 467 1731 198 \nQ 1472 -70 1178 -70 \nQ 768 -70 768 384 \nQ 768 890 1395 2266 \nL 1005 2266 \nQ 493 2266 179 1702 \nL 77 1702 \nQ 237 2093 569 2416 \nQ 902 2739 1331 2739 \nL 2726 2739 \nz\n\" transform=\"scale(0.015625)\"/>\n      </defs>\n      <use xlink:href=\"#Cmmi10-b9\"/>\n      <use xlink:href=\"#Cmr10-32\" transform=\"translate(60.205078 -17.00625)scale(0.7)\"/>\n      <use xlink:href=\"#Cmsy10-32\" transform=\"translate(119.141016 0)\"/>\n      <use xlink:href=\"#Cmr10-5b\" transform=\"translate(203.301172 0)\"/>\n      <use xlink:href=\"#Cmr10-30\" transform=\"translate(230.986719 0)\"/>\n      <use xlink:href=\"#Cmmi10-3a\" transform=\"translate(280.986719 0)\"/>\n      <use xlink:href=\"#Cmr10-30\" transform=\"translate(308.672266 0)\"/>\n      <use xlink:href=\"#Cmr10-39\" transform=\"translate(358.672266 0)\"/>\n      <use xlink:href=\"#Cmmi10-3b\" transform=\"translate(408.672266 0)\"/>\n      <use xlink:href=\"#Cmr10-30\" transform=\"translate(453.916406 0)\"/>\n      <use xlink:href=\"#Cmmi10-3a\" transform=\"translate(503.916406 0)\"/>\n      <use xlink:href=\"#Cmr10-31\" transform=\"translate(531.601953 0)\"/>\n      <use xlink:href=\"#Cmr10-33\" transform=\"translate(581.601953 0)\"/>\n      <use xlink:href=\"#Cmr10-5d\" transform=\"translate(631.601953 0)\"/>\n      <use xlink:href=\"#DejaVuSans-20\" transform=\"translate(659.2875 0)\"/>\n      <use xlink:href=\"#Cmmi10-4e\" transform=\"translate(691.074609 0)\"/>\n      <use xlink:href=\"#Cmr10-3d\" transform=\"translate(788.955469 0)\"/>\n      <use xlink:href=\"#Cmr10-32\" transform=\"translate(884.199609 0)\"/>\n      <use xlink:href=\"#DejaVuSans-2c\" transform=\"translate(934.199609 0)\"/>\n      <use xlink:href=\"#DejaVuSans-20\" transform=\"translate(965.986719 0)\"/>\n      <use xlink:href=\"#STIXGeneral-Regular-394\" transform=\"translate(997.773828 0)\"/>\n      <use xlink:href=\"#STIXGeneral-Italic-3c4\" transform=\"translate(1069.97381 0)\"/>\n      <use xlink:href=\"#Cmr10-3d\" transform=\"translate(1128.532388 0)\"/>\n      <use xlink:href=\"#Cmr10-30\" transform=\"translate(1223.776529 0)\"/>\n      <use xlink:href=\"#Cmmi10-3a\" transform=\"translate(1273.776529 0)\"/>\n      <use xlink:href=\"#Cmr10-30\" transform=\"translate(1301.462076 0)\"/>\n      <use xlink:href=\"#Cmr10-30\" transform=\"translate(1351.462076 0)\"/>\n      <use xlink:href=\"#Cmr10-32\" transform=\"translate(1401.462076 0)\"/>\n     </g>\n    </g>\n    <g id=\"LineCollection_4\">\n     <path d=\"M 64.1775 98.487 \nL 64.1775 84.087 \n\" style=\"fill: none; stroke: #008000; stroke-width: 0.5\"/>\n     <path d=\"M 84.3375 98.487 \nL 84.3375 84.087 \n\" style=\"fill: none; stroke: #008000; stroke-width: 0.5\"/>\n    </g>\n    <g id=\"line2d_37\">\n     <g>\n      <use xlink:href=\"#mf6029d5d6b\" x=\"64.1775\" y=\"98.487\" style=\"fill: #008000; stroke: #008000; stroke-width: 0.75\"/>\n      <use xlink:href=\"#mf6029d5d6b\" x=\"84.3375\" y=\"98.487\" style=\"fill: #008000; stroke: #008000; stroke-width: 0.75\"/>\n     </g>\n    </g>\n    <g id=\"line2d_38\">\n     <g>\n      <use xlink:href=\"#mf6029d5d6b\" x=\"64.1775\" y=\"84.087\" style=\"fill: #008000; stroke: #008000; stroke-width: 0.75\"/>\n      <use xlink:href=\"#mf6029d5d6b\" x=\"84.3375\" y=\"84.087\" style=\"fill: #008000; stroke: #008000; stroke-width: 0.75\"/>\n     </g>\n    </g>\n    <g id=\"line2d_39\"/>\n    <g id=\"line2d_40\">\n     <g>\n      <use xlink:href=\"#m3704c1ee2b\" x=\"64.1775\" y=\"91.287\" style=\"fill-opacity: 0; stroke: #0000ff; stroke-width: 0.75\"/>\n      <use xlink:href=\"#m3704c1ee2b\" x=\"84.3375\" y=\"91.287\" style=\"fill-opacity: 0; stroke: #0000ff; stroke-width: 0.75\"/>\n     </g>\n    </g>\n    <g id=\"text_17\">\n     <!-- $\\mu_3 \\in [0.09,0.13]$ $N=3$, $Δτ=0.002$ -->\n     <g transform=\"translate(100.1775 96.327)scale(0.144 -0.144)\">\n      <use xlink:href=\"#Cmmi10-b9\"/>\n      <use xlink:href=\"#Cmr10-33\" transform=\"translate(60.205078 -17.00625)scale(0.7)\"/>\n      <use xlink:href=\"#Cmsy10-32\" transform=\"translate(119.141016 0)\"/>\n      <use xlink:href=\"#Cmr10-5b\" transform=\"translate(203.301172 0)\"/>\n      <use xlink:href=\"#Cmr10-30\" transform=\"translate(230.986719 0)\"/>\n      <use xlink:href=\"#Cmmi10-3a\" transform=\"translate(280.986719 0)\"/>\n      <use xlink:href=\"#Cmr10-30\" transform=\"translate(308.672266 0)\"/>\n      <use xlink:href=\"#Cmr10-39\" transform=\"translate(358.672266 0)\"/>\n      <use xlink:href=\"#Cmmi10-3b\" transform=\"translate(408.672266 0)\"/>\n      <use xlink:href=\"#Cmr10-30\" transform=\"translate(453.916406 0)\"/>\n      <use xlink:href=\"#Cmmi10-3a\" transform=\"translate(503.916406 0)\"/>\n      <use xlink:href=\"#Cmr10-31\" transform=\"translate(531.601953 0)\"/>\n      <use xlink:href=\"#Cmr10-33\" transform=\"translate(581.601953 0)\"/>\n      <use xlink:href=\"#Cmr10-5d\" transform=\"translate(631.601953 0)\"/>\n      <use xlink:href=\"#DejaVuSans-20\" transform=\"translate(659.2875 0)\"/>\n      <use xlink:href=\"#Cmmi10-4e\" transform=\"translate(691.074609 0)\"/>\n      <use xlink:href=\"#Cmr10-3d\" transform=\"translate(788.955469 0)\"/>\n      <use xlink:href=\"#Cmr10-33\" transform=\"translate(884.199609 0)\"/>\n      <use xlink:href=\"#DejaVuSans-2c\" transform=\"translate(934.199609 0)\"/>\n      <use xlink:href=\"#DejaVuSans-20\" transform=\"translate(965.986719 0)\"/>\n      <use xlink:href=\"#STIXGeneral-Regular-394\" transform=\"translate(997.773828 0)\"/>\n      <use xlink:href=\"#STIXGeneral-Italic-3c4\" transform=\"translate(1069.97381 0)\"/>\n      <use xlink:href=\"#Cmr10-3d\" transform=\"translate(1128.532388 0)\"/>\n      <use xlink:href=\"#Cmr10-30\" transform=\"translate(1223.776529 0)\"/>\n      <use xlink:href=\"#Cmmi10-3a\" transform=\"translate(1273.776529 0)\"/>\n      <use xlink:href=\"#Cmr10-30\" transform=\"translate(1301.462076 0)\"/>\n      <use xlink:href=\"#Cmr10-30\" transform=\"translate(1351.462076 0)\"/>\n      <use xlink:href=\"#Cmr10-32\" transform=\"translate(1401.462076 0)\"/>\n     </g>\n    </g>\n   </g>\n  </g>\n </g>\n <defs>\n  <clipPath id=\"p3e275af750\">\n   <rect x=\"46.8975\" y=\"7.2\" width=\"446.4\" height=\"345.6\"/>\n  </clipPath>\n </defs>\n</svg>\n",
      "text/plain": [
       "<Figure size 640x480 with 1 Axes>"
      ]
     },
     "metadata": {},
     "output_type": "display_data"
    }
   ],
   "source": [
    "fparams = {'mfc':'None', 'elinewidth':0.5, 'marker':'o', 'ms':5, 'lw':0.75, 'ls':'None', 'mew':0.75, 'mec':colors[2]}\n",
    "bparams = {'mfc':'None', 'elinewidth':0.5, 'marker':'o', 'ms':5, 'lw':0.75, 'ls':'None', 'mew':0.75, 'mec':colors[0]}\n",
    "\n",
    "### QMC Data ###\n",
    "T_m2 = mu2_estimator.data['T']\n",
    "T_m3 = mu3_estimator.data['T']\n",
    "plt.errorbar(T_m2, mu2_estimator.data['E/N'], yerr=mu2_estimator.data['ΔE/N'], **fparams, label=f\"$\\mu_2 \\in [0.09,0.13]$ $N={mu_2_params['N']}$, $Δτ={mu_2_params['τ']}$\")\n",
    "plt.errorbar(T_m3, mu3_estimator.data['E/N'], yerr=mu3_estimator.data['ΔE/N'], **bparams, label=f\"$\\mu_3 \\in [0.09,0.13]$ $N={mu_3_params['N']}$, $Δτ={mu_3_params['τ']}$\")\n",
    "\n",
    "### Exact + Approx Solutions w/ fill_between ###\n",
    "plt.plot(_T, bEperN(mu_2_params['N'], _T), lw=1, color=colors[2], label=r'$N=2$ $E_{exact}/N$')\n",
    "plt.plot(_T, bEperN(mu_3_params['N'], _T), lw=1, color=colors[0], label=r'$N=3\\ E_{exact}/N$')\n",
    "\n",
    "#plt.plot(_T, fHighPerN(sim_params['N'], _T), label='F High-T per Particle', ls='-.')\n",
    "#plt.fill_between(_T, fE(sim_params['N'], _T), fHigh(sim_params['N'], _T), alpha=0.1)\n",
    "#plt.plot(_T, bHighPerN(prod_param['N'], _T), label='B High-T per Particle', ls='-.')\n",
    "#plt.fill_between(_T, bE(prod_param['N'], _T), bHigh(prod_param['N'], _T), alpha=0.1)\n",
    "\n",
    "#plt.plot(_T, fLowPerN(sim_params['N'], _T), ls=':', label=r'F Low Temp - $\\mathcal{O}(\\beta)$')\n",
    "#plt.fill_between(_T, fE(sim_params['N'], _T), fLow(sim_params['N'], _T), alpha=0.1)\n",
    "#plt.plot(_T, bLowPerN(prod_param['N'], _T), ls=':', label=r'B Low Temp - $\\mathcal{O}(\\beta)$')\n",
    "#plt.fill_between(_T, bLow(prod_param['N'], _T), bE(prod_param['N'], _T), alpha=0.1)\n",
    "\n",
    "#plt.axvline(2.0, color='red', ls='--')\n",
    "#plt.axvline(4*np.pi, color='blue', ls='-')\n",
    "\n",
    "### Plot Scaling, labeling, etc. ###\n",
    "plt.xlim(0.5,1.5)\n",
    "plt.ylim(0.25,1.5)\n",
    "plt.ylabel('Energy (K)')\n",
    "plt.xlabel('Temperature (K)')\n",
    "plt.legend(loc='upper left')\n",
    "#plt.savefig(julia_plot_dir + 'E_vs_T_SHO_N' + str(sim_params['N']) + '.png', dpi=300)"
   ]
  },
  {
   "cell_type": "code",
   "execution_count": 9,
   "metadata": {},
   "outputs": [
    {
     "name": "stdout",
     "output_type": "stream",
     "text": [
      "0.8319767068693265\n",
      "1.1450119923686577\n"
     ]
    }
   ],
   "source": [
    "print(bEperN(2, 1.0))\n",
    "print(bEperN(3, 1.0))"
   ]
  },
  {
   "cell_type": "markdown",
   "metadata": {},
   "source": [
    "## Investigate the probaility density"
   ]
  },
  {
   "cell_type": "code",
   "execution_count": 10,
   "metadata": {},
   "outputs": [],
   "source": [
    "rho_exact = lambda x,T: np.exp(-x**2*np.tanh(0.5/T))/np.sqrt(np.pi/np.tanh(0.5/T))\n",
    "_x = np.linspace(-5,5,1000)"
   ]
  },
  {
   "cell_type": "code",
   "execution_count": 11,
   "metadata": {},
   "outputs": [
    {
     "ename": "NameError",
     "evalue": "name 'T' is not defined",
     "output_type": "error",
     "traceback": [
      "\u001b[0;31m---------------------------------------------------------------------------\u001b[0m",
      "\u001b[0;31mNameError\u001b[0m                                 Traceback (most recent call last)",
      "\u001b[1;32m/home/thaumaturge/Projects/Fermionic-PIMC-toy/JULIA/base/OUTPUT/mu/mu_comparison.ipynb Cell 14'\u001b[0m in \u001b[0;36m<cell line: 4>\u001b[0;34m()\u001b[0m\n\u001b[1;32m      <a href='vscode-notebook-cell:/home/thaumaturge/Projects/Fermionic-PIMC-toy/JULIA/base/OUTPUT/mu/mu_comparison.ipynb#ch0000013?line=0'>1</a>\u001b[0m params \u001b[39m=\u001b[39m {\u001b[39m'\u001b[39m\u001b[39mmfc\u001b[39m\u001b[39m'\u001b[39m:\u001b[39m'\u001b[39m\u001b[39mNone\u001b[39m\u001b[39m'\u001b[39m, \u001b[39m'\u001b[39m\u001b[39melinewidth\u001b[39m\u001b[39m'\u001b[39m:\u001b[39m0.5\u001b[39m, \u001b[39m'\u001b[39m\u001b[39mmarker\u001b[39m\u001b[39m'\u001b[39m:\u001b[39m'\u001b[39m\u001b[39mo\u001b[39m\u001b[39m'\u001b[39m, \u001b[39m'\u001b[39m\u001b[39mms\u001b[39m\u001b[39m'\u001b[39m:\u001b[39m5\u001b[39m, \u001b[39m'\u001b[39m\u001b[39mlw\u001b[39m\u001b[39m'\u001b[39m:\u001b[39m0.75\u001b[39m, \u001b[39m'\u001b[39m\u001b[39mls\u001b[39m\u001b[39m'\u001b[39m:\u001b[39m'\u001b[39m\u001b[39mNone\u001b[39m\u001b[39m'\u001b[39m, \u001b[39m'\u001b[39m\u001b[39mmew\u001b[39m\u001b[39m'\u001b[39m:\u001b[39m0.75\u001b[39m, \u001b[39m'\u001b[39m\u001b[39mmec\u001b[39m\u001b[39m'\u001b[39m:colors[\u001b[39m0\u001b[39m]}\n\u001b[1;32m      <a href='vscode-notebook-cell:/home/thaumaturge/Projects/Fermionic-PIMC-toy/JULIA/base/OUTPUT/mu/mu_comparison.ipynb#ch0000013?line=2'>3</a>\u001b[0m T_compare \u001b[39m=\u001b[39m \u001b[39m0.3\u001b[39m\n\u001b[0;32m----> <a href='vscode-notebook-cell:/home/thaumaturge/Projects/Fermionic-PIMC-toy/JULIA/base/OUTPUT/mu/mu_comparison.ipynb#ch0000013?line=3'>4</a>\u001b[0m idx \u001b[39m=\u001b[39m np\u001b[39m.\u001b[39mwhere(np\u001b[39m.\u001b[39mabs(T\u001b[39m-\u001b[39mT_compare) \u001b[39m<\u001b[39m \u001b[39m0.01\u001b[39m)[\u001b[39m0\u001b[39m][\u001b[39m0\u001b[39m]\n\u001b[1;32m      <a href='vscode-notebook-cell:/home/thaumaturge/Projects/Fermionic-PIMC-toy/JULIA/base/OUTPUT/mu/mu_comparison.ipynb#ch0000013?line=4'>5</a>\u001b[0m x,rhox,drhox \u001b[39m=\u001b[39m rho\u001b[39m.\u001b[39mepdata(rho\u001b[39m.\u001b[39mparams[idx])\n\u001b[1;32m      <a href='vscode-notebook-cell:/home/thaumaturge/Projects/Fermionic-PIMC-toy/JULIA/base/OUTPUT/mu/mu_comparison.ipynb#ch0000013?line=5'>6</a>\u001b[0m norm \u001b[39m=\u001b[39m scipy\u001b[39m.\u001b[39mintegrate\u001b[39m.\u001b[39msimps(rhox,x)\n",
      "\u001b[0;31mNameError\u001b[0m: name 'T' is not defined"
     ]
    }
   ],
   "source": [
    "params = {'mfc':'None', 'elinewidth':0.5, 'marker':'o', 'ms':5, 'lw':0.75, 'ls':'None', 'mew':0.75, 'mec':colors[0]}\n",
    "\n",
    "T_compare = 0.3\n",
    "idx = np.where(np.abs(T-T_compare) < 0.01)[0][0]\n",
    "x,rhox,drhox = rho.epdata(rho.params[idx])\n",
    "norm = scipy.integrate.simps(rhox,x)\n",
    "deltaX = x[2] - x[1]\n",
    "\n",
    "fig,ax = plt.subplots()\n",
    "\n",
    "ax.errorbar(x+deltaX/2,rhox/norm,yerr=drhox,**params, label=f'QMC')\n",
    "ax.plot(_x, rho_exact(_x, T_compare), '-', lw=1, color=colors[0], label = 'Exact')\n",
    "ax.text(0.7,0.9, f'$N=1$, $T={T_compare}$ K', fontsize=12, transform=ax.transAxes)\n",
    "ax.set_xlim(-5,5)\n",
    "ax.set_xlabel('Position $x$ (Å)')\n",
    "ax.set_ylabel('Particle Density ρ(x) (1/Å)')\n",
    "ax.legend(loc='upper left', handlelength=0.5)\n",
    "plt.savefig(plot_dir + 'rho_vs_xT_1.5_SHO_NA.png', dpi=300)"
   ]
  },
  {
   "cell_type": "markdown",
   "metadata": {},
   "source": [
    "## Now let's make a grid for all temperatures"
   ]
  },
  {
   "cell_type": "code",
   "execution_count": null,
   "metadata": {},
   "outputs": [],
   "source": [
    "colors = colortools.get_linear_colors('Spectral',len(T),reverse=True)\n",
    "params = {'mfc':'None', 'elinewidth':0.5, 'marker':'o', 'ms':3, 'lw':0.75, 'ls':'None', 'mew':0.75}"
   ]
  },
  {
   "cell_type": "code",
   "execution_count": null,
   "metadata": {},
   "outputs": [],
   "source": [
    "figsize = (10,4)\n",
    "fig,axes = plt.subplots(nrows=2,ncols=3,sharex=True,sharey=True,constrained_layout=True,squeeze=True, figsize=figsize)\n",
    "for i, ax in enumerate(axes.flat):\n",
    "\tcT = T[i]\n",
    "\tx,rhox,drhox = rho.epdata(rho.params[i])\n",
    "\tnorm = scipy.integrate.simps(rhox,x)\n",
    "\tax.errorbar(x+deltaX/2,rhox/norm,yerr=drhox, **params, label=f'QMC', mec=colors[i], ecolor=colors[i])\n",
    "\tax.plot(_x, rho_exact(_x,cT), '-', lw=1, color=colors[i], label='Exact')\n",
    "\tax.set_xlim(-5,5)\n",
    "\tax.text(0.02, 0.92,f'$T={cT}$ K',transform=ax.transAxes, fontsize=8)\n",
    "\tif i > 3:\n",
    "\t\tax.set_xlabel('$x$ (Å)')\n",
    "\n",
    "axes[0,0].set_ylabel(r'$\\rho(x)$  (1/Å)')\n",
    "axes[1,0].set_ylabel(r'$\\rho(x)$  (1/Å)');\n",
    "\n",
    "plt.savefig(plot_dir + 'rho_vs_xT_SHO_N' + str(sim_params['N']) + '.png', dpi=300)"
   ]
  },
  {
   "cell_type": "markdown",
   "metadata": {},
   "source": [
    "## Quantifying with $\\chi^2$"
   ]
  },
  {
   "cell_type": "code",
   "execution_count": null,
   "metadata": {},
   "outputs": [],
   "source": [
    "chi2 = []\n",
    "for iT, cT in enumerate(T):\n",
    "\tx,rhox,drhox = rho.epdata(rho.params[iT])\n",
    "\tnorm = scipy.integrate.simps(rhox,x)\n",
    "\tx+= deltaX/2\n",
    "\tchi2.append(np.average(((rho_exact(x,cT) - rhox/norm))**2))\n",
    "\n",
    "chi2 = np.array(chi2)"
   ]
  },
  {
   "cell_type": "code",
   "execution_count": null,
   "metadata": {},
   "outputs": [],
   "source": [
    "plt.plot(T,chi2)\n",
    "plt.plot(T,chi2,'o',fillstyle='none')\n",
    "plt.ylabel(r'$\\chi^2$')\n",
    "plt.xlabel('Tempearture (K)')\n",
    "plt.savefig(plot_dir + 'chi2_vs_T_SHO_N' + str(sim_params['N']) + '.png',dpi=300)"
   ]
  },
  {
   "cell_type": "code",
   "execution_count": null,
   "metadata": {},
   "outputs": [],
   "source": []
  }
 ],
 "metadata": {
  "interpreter": {
   "hash": "767d51c1340bd893661ea55ea3124f6de3c7a262a8b4abca0554b478b1e2ff90"
  },
  "kernelspec": {
   "display_name": "Python 3.9.9 64-bit",
   "name": "python3"
  },
  "language_info": {
   "codemirror_mode": {
    "name": "ipython",
    "version": 3
   },
   "file_extension": ".py",
   "mimetype": "text/x-python",
   "name": "python",
   "nbconvert_exporter": "python",
   "pygments_lexer": "ipython3",
   "version": "3.9.12"
  },
  "orig_nbformat": 4
 },
 "nbformat": 4,
 "nbformat_minor": 2
}
